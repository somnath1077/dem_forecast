{
 "cells": [
  {
   "cell_type": "code",
   "execution_count": 1,
   "id": "e1e6fe31",
   "metadata": {},
   "outputs": [],
   "source": [
    "%load_ext watermark\n",
    "\n",
    "import ipywidgets as widgets\n",
    "import itertools\n",
    "import pandas as pd\n",
    "import numpy as np\n",
    "import matplotlib.pyplot as plt\n",
    "import seaborn as sns\n",
    "from typing import List\n",
    "\n",
    "from ipywidgets import interact, interact_manual\n",
    "\n",
    "\n",
    "sns.set_style()\n",
    "\n",
    "LAGGED_SALES_DATA = 'lagged_sales_data.csv'"
   ]
  },
  {
   "cell_type": "code",
   "execution_count": 2,
   "id": "ebd382c2",
   "metadata": {},
   "outputs": [
    {
     "name": "stdout",
     "output_type": "stream",
     "text": [
      "<class 'pandas.core.frame.DataFrame'>\n",
      "RangeIndex: 1107 entries, 0 to 1106\n",
      "Data columns (total 28 columns):\n",
      " #   Column                 Non-Null Count  Dtype  \n",
      "---  ------                 --------------  -----  \n",
      " 0   year                   1107 non-null   int64  \n",
      " 1   week                   1107 non-null   int64  \n",
      " 2   article_count          1107 non-null   float64\n",
      " 3   sales_price            1107 non-null   float64\n",
      " 4   original_price         1107 non-null   float64\n",
      " 5   discount               1107 non-null   float64\n",
      " 6   stock_begin_week       1107 non-null   float64\n",
      " 7   month                  1107 non-null   int64  \n",
      " 8   transaction_date       1107 non-null   object \n",
      " 9   article_count_minus-1  1107 non-null   float64\n",
      " 10  article_count_minus-2  1107 non-null   float64\n",
      " 11  article_count_minus-3  1107 non-null   float64\n",
      " 12  article_count_minus-4  1107 non-null   float64\n",
      " 13  article_7754922460402  1107 non-null   int64  \n",
      " 14  article_7754922460403  1107 non-null   int64  \n",
      " 15  article_7754922460404  1107 non-null   int64  \n",
      " 16  article_7754922460405  1107 non-null   int64  \n",
      " 17  article_7754922460406  1107 non-null   int64  \n",
      " 18  article_7754922460407  1107 non-null   int64  \n",
      " 19  article_7754922710402  1107 non-null   int64  \n",
      " 20  article_7754922710403  1107 non-null   int64  \n",
      " 21  article_7754922710404  1107 non-null   int64  \n",
      " 22  article_7754922710405  1107 non-null   int64  \n",
      " 23  article_7754922710406  1107 non-null   int64  \n",
      " 24  article_7754922710407  1107 non-null   int64  \n",
      " 25  country_country_0      1107 non-null   int64  \n",
      " 26  country_country_1      1107 non-null   int64  \n",
      " 27  country_country_2      1107 non-null   int64  \n",
      "dtypes: float64(9), int64(18), object(1)\n",
      "memory usage: 242.3+ KB\n"
     ]
    }
   ],
   "source": [
    "df_lag = pd.read_csv(LAGGED_SALES_DATA)\n",
    "df_lag.info()"
   ]
  },
  {
   "cell_type": "markdown",
   "id": "cabc0387",
   "metadata": {},
   "source": [
    "## Start and End Dates of Train-Test Period"
   ]
  }
 ],
 "metadata": {
  "kernelspec": {
   "display_name": "ai",
   "language": "python",
   "name": "ai"
  },
  "language_info": {
   "codemirror_mode": {
    "name": "ipython",
    "version": 3
   },
   "file_extension": ".py",
   "mimetype": "text/x-python",
   "name": "python",
   "nbconvert_exporter": "python",
   "pygments_lexer": "ipython3",
   "version": "3.9.2"
  }
 },
 "nbformat": 4,
 "nbformat_minor": 5
}
