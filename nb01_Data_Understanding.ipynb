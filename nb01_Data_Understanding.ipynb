{
 "cells": [
  {
   "cell_type": "code",
   "execution_count": 1,
   "id": "e78da476",
   "metadata": {},
   "outputs": [],
   "source": [
    "import itertools\n",
    "from ipywidgets import interact, interact_manual\n",
    "import pandas as pd\n",
    "import numpy as np\n",
    "import matplotlib.pyplot as plt\n",
    "import seaborn as sns\n",
    "\n",
    "sns.set_style()\n",
    "\n",
    "%load_ext watermark"
   ]
  },
  {
   "cell_type": "markdown",
   "id": "3cb37fae",
   "metadata": {},
   "source": [
    "## Load Data"
   ]
  },
  {
   "cell_type": "code",
   "execution_count": 2,
   "id": "fd0ba25a",
   "metadata": {},
   "outputs": [],
   "source": [
    "FILE_NAME = './DataScientist/feature_grid_anonymized.csv'"
   ]
  },
  {
   "cell_type": "code",
   "execution_count": 3,
   "id": "58cd058b",
   "metadata": {},
   "outputs": [
    {
     "data": {
      "text/html": [
       "<div>\n",
       "<style scoped>\n",
       "    .dataframe tbody tr th:only-of-type {\n",
       "        vertical-align: middle;\n",
       "    }\n",
       "\n",
       "    .dataframe tbody tr th {\n",
       "        vertical-align: top;\n",
       "    }\n",
       "\n",
       "    .dataframe thead th {\n",
       "        text-align: right;\n",
       "    }\n",
       "</style>\n",
       "<table border=\"1\" class=\"dataframe\">\n",
       "  <thead>\n",
       "    <tr style=\"text-align: right;\">\n",
       "      <th></th>\n",
       "      <th>article_id</th>\n",
       "      <th>location_id</th>\n",
       "      <th>transaction_date</th>\n",
       "      <th>option_id</th>\n",
       "      <th>sales_price</th>\n",
       "      <th>original_price</th>\n",
       "      <th>promotion_discount</th>\n",
       "      <th>season_id</th>\n",
       "      <th>article_count</th>\n",
       "      <th>in_stock</th>\n",
       "      <th>country</th>\n",
       "      <th>category</th>\n",
       "      <th>sub_category_anonymized</th>\n",
       "      <th>brand</th>\n",
       "    </tr>\n",
       "  </thead>\n",
       "  <tbody>\n",
       "    <tr>\n",
       "      <th>0</th>\n",
       "      <td>7754922710402</td>\n",
       "      <td>27650</td>\n",
       "      <td>2019-08-01</td>\n",
       "      <td>775492271</td>\n",
       "      <td>29.99</td>\n",
       "      <td>29.99</td>\n",
       "      <td>0.0</td>\n",
       "      <td>76</td>\n",
       "      <td>0.0</td>\n",
       "      <td>0.0</td>\n",
       "      <td>country_1</td>\n",
       "      <td>category_0</td>\n",
       "      <td>sub_category_0</td>\n",
       "      <td>brand_0</td>\n",
       "    </tr>\n",
       "    <tr>\n",
       "      <th>1</th>\n",
       "      <td>7754922710402</td>\n",
       "      <td>27875</td>\n",
       "      <td>2019-08-01</td>\n",
       "      <td>775492271</td>\n",
       "      <td>29.99</td>\n",
       "      <td>29.99</td>\n",
       "      <td>0.0</td>\n",
       "      <td>76</td>\n",
       "      <td>0.0</td>\n",
       "      <td>0.0</td>\n",
       "      <td>country_1</td>\n",
       "      <td>category_0</td>\n",
       "      <td>sub_category_0</td>\n",
       "      <td>brand_0</td>\n",
       "    </tr>\n",
       "    <tr>\n",
       "      <th>2</th>\n",
       "      <td>7754922710402</td>\n",
       "      <td>27650</td>\n",
       "      <td>2019-08-02</td>\n",
       "      <td>775492271</td>\n",
       "      <td>29.99</td>\n",
       "      <td>29.99</td>\n",
       "      <td>0.0</td>\n",
       "      <td>76</td>\n",
       "      <td>0.0</td>\n",
       "      <td>0.0</td>\n",
       "      <td>country_1</td>\n",
       "      <td>category_0</td>\n",
       "      <td>sub_category_0</td>\n",
       "      <td>brand_0</td>\n",
       "    </tr>\n",
       "    <tr>\n",
       "      <th>3</th>\n",
       "      <td>7754922710402</td>\n",
       "      <td>27875</td>\n",
       "      <td>2019-08-02</td>\n",
       "      <td>775492271</td>\n",
       "      <td>29.99</td>\n",
       "      <td>29.99</td>\n",
       "      <td>0.0</td>\n",
       "      <td>76</td>\n",
       "      <td>0.0</td>\n",
       "      <td>0.0</td>\n",
       "      <td>country_1</td>\n",
       "      <td>category_0</td>\n",
       "      <td>sub_category_0</td>\n",
       "      <td>brand_0</td>\n",
       "    </tr>\n",
       "    <tr>\n",
       "      <th>4</th>\n",
       "      <td>7754922710402</td>\n",
       "      <td>27650</td>\n",
       "      <td>2019-08-03</td>\n",
       "      <td>775492271</td>\n",
       "      <td>29.99</td>\n",
       "      <td>29.99</td>\n",
       "      <td>0.0</td>\n",
       "      <td>76</td>\n",
       "      <td>0.0</td>\n",
       "      <td>0.0</td>\n",
       "      <td>country_1</td>\n",
       "      <td>category_0</td>\n",
       "      <td>sub_category_0</td>\n",
       "      <td>brand_0</td>\n",
       "    </tr>\n",
       "  </tbody>\n",
       "</table>\n",
       "</div>"
      ],
      "text/plain": [
       "      article_id  location_id transaction_date  option_id  sales_price  \\\n",
       "0  7754922710402        27650       2019-08-01  775492271        29.99   \n",
       "1  7754922710402        27875       2019-08-01  775492271        29.99   \n",
       "2  7754922710402        27650       2019-08-02  775492271        29.99   \n",
       "3  7754922710402        27875       2019-08-02  775492271        29.99   \n",
       "4  7754922710402        27650       2019-08-03  775492271        29.99   \n",
       "\n",
       "   original_price  promotion_discount  season_id  article_count  in_stock  \\\n",
       "0           29.99                 0.0         76            0.0       0.0   \n",
       "1           29.99                 0.0         76            0.0       0.0   \n",
       "2           29.99                 0.0         76            0.0       0.0   \n",
       "3           29.99                 0.0         76            0.0       0.0   \n",
       "4           29.99                 0.0         76            0.0       0.0   \n",
       "\n",
       "     country    category sub_category_anonymized    brand  \n",
       "0  country_1  category_0          sub_category_0  brand_0  \n",
       "1  country_1  category_0          sub_category_0  brand_0  \n",
       "2  country_1  category_0          sub_category_0  brand_0  \n",
       "3  country_1  category_0          sub_category_0  brand_0  \n",
       "4  country_1  category_0          sub_category_0  brand_0  "
      ]
     },
     "execution_count": 3,
     "metadata": {},
     "output_type": "execute_result"
    }
   ],
   "source": [
    "df_sales = pd.read_csv(FILE_NAME)\n",
    "df_sales.head()"
   ]
  },
  {
   "cell_type": "code",
   "execution_count": 4,
   "id": "0bb45685",
   "metadata": {},
   "outputs": [
    {
     "name": "stdout",
     "output_type": "stream",
     "text": [
      "<class 'pandas.core.frame.DataFrame'>\n",
      "RangeIndex: 328246 entries, 0 to 328245\n",
      "Data columns (total 14 columns):\n",
      " #   Column                   Non-Null Count   Dtype  \n",
      "---  ------                   --------------   -----  \n",
      " 0   article_id               328246 non-null  int64  \n",
      " 1   location_id              328246 non-null  int64  \n",
      " 2   transaction_date         328246 non-null  object \n",
      " 3   option_id                328246 non-null  int64  \n",
      " 4   sales_price              328246 non-null  float64\n",
      " 5   original_price           328246 non-null  float64\n",
      " 6   promotion_discount       328246 non-null  float64\n",
      " 7   season_id                328246 non-null  int64  \n",
      " 8   article_count            328246 non-null  float64\n",
      " 9   in_stock                 328246 non-null  float64\n",
      " 10  country                  328246 non-null  object \n",
      " 11  category                 328246 non-null  object \n",
      " 12  sub_category_anonymized  328246 non-null  object \n",
      " 13  brand                    328246 non-null  object \n",
      "dtypes: float64(5), int64(4), object(5)\n",
      "memory usage: 35.1+ MB\n"
     ]
    }
   ],
   "source": [
    "df_sales.info()"
   ]
  },
  {
   "cell_type": "code",
   "execution_count": 5,
   "id": "8dafe472",
   "metadata": {},
   "outputs": [
    {
     "data": {
      "text/plain": [
       "12"
      ]
     },
     "execution_count": 5,
     "metadata": {},
     "output_type": "execute_result"
    }
   ],
   "source": [
    "df_sales['article_id'].nunique()"
   ]
  },
  {
   "cell_type": "code",
   "execution_count": 6,
   "id": "c1fd5e55",
   "metadata": {},
   "outputs": [
    {
     "data": {
      "text/plain": [
       "168"
      ]
     },
     "execution_count": 6,
     "metadata": {},
     "output_type": "execute_result"
    }
   ],
   "source": [
    "df_sales['location_id'].nunique()"
   ]
  },
  {
   "cell_type": "code",
   "execution_count": 7,
   "id": "7da9c815",
   "metadata": {},
   "outputs": [
    {
     "data": {
      "text/plain": [
       "3"
      ]
     },
     "execution_count": 7,
     "metadata": {},
     "output_type": "execute_result"
    }
   ],
   "source": [
    "df_sales['country'].nunique()"
   ]
  },
  {
   "cell_type": "code",
   "execution_count": 8,
   "id": "3c0e0af6",
   "metadata": {},
   "outputs": [
    {
     "data": {
      "text/plain": [
       "country\n",
       "country_0      1220\n",
       "country_1    288901\n",
       "country_2     38125\n",
       "Name: location_id, dtype: int64"
      ]
     },
     "execution_count": 8,
     "metadata": {},
     "output_type": "execute_result"
    }
   ],
   "source": [
    "df_sales.groupby('country')['location_id'].count()"
   ]
  },
  {
   "cell_type": "code",
   "execution_count": 9,
   "id": "b1556273",
   "metadata": {},
   "outputs": [
    {
     "data": {
      "text/html": [
       "<div>\n",
       "<style scoped>\n",
       "    .dataframe tbody tr th:only-of-type {\n",
       "        vertical-align: middle;\n",
       "    }\n",
       "\n",
       "    .dataframe tbody tr th {\n",
       "        vertical-align: top;\n",
       "    }\n",
       "\n",
       "    .dataframe thead th {\n",
       "        text-align: right;\n",
       "    }\n",
       "</style>\n",
       "<table border=\"1\" class=\"dataframe\">\n",
       "  <thead>\n",
       "    <tr style=\"text-align: right;\">\n",
       "      <th></th>\n",
       "      <th>article_id</th>\n",
       "      <th>location_id</th>\n",
       "      <th>transaction_date</th>\n",
       "      <th>option_id</th>\n",
       "      <th>sales_price</th>\n",
       "      <th>original_price</th>\n",
       "      <th>promotion_discount</th>\n",
       "      <th>season_id</th>\n",
       "      <th>article_count</th>\n",
       "      <th>in_stock</th>\n",
       "      <th>country</th>\n",
       "      <th>category</th>\n",
       "      <th>sub_category_anonymized</th>\n",
       "      <th>brand</th>\n",
       "    </tr>\n",
       "  </thead>\n",
       "  <tbody>\n",
       "    <tr>\n",
       "      <th>0</th>\n",
       "      <td>7754922710402</td>\n",
       "      <td>27650</td>\n",
       "      <td>2019-08-01</td>\n",
       "      <td>775492271</td>\n",
       "      <td>29.99</td>\n",
       "      <td>29.99</td>\n",
       "      <td>0.0</td>\n",
       "      <td>76</td>\n",
       "      <td>0.0</td>\n",
       "      <td>0.0</td>\n",
       "      <td>country_1</td>\n",
       "      <td>category_0</td>\n",
       "      <td>sub_category_0</td>\n",
       "      <td>brand_0</td>\n",
       "    </tr>\n",
       "    <tr>\n",
       "      <th>2</th>\n",
       "      <td>7754922710402</td>\n",
       "      <td>27650</td>\n",
       "      <td>2019-08-02</td>\n",
       "      <td>775492271</td>\n",
       "      <td>29.99</td>\n",
       "      <td>29.99</td>\n",
       "      <td>0.0</td>\n",
       "      <td>76</td>\n",
       "      <td>0.0</td>\n",
       "      <td>0.0</td>\n",
       "      <td>country_1</td>\n",
       "      <td>category_0</td>\n",
       "      <td>sub_category_0</td>\n",
       "      <td>brand_0</td>\n",
       "    </tr>\n",
       "    <tr>\n",
       "      <th>4</th>\n",
       "      <td>7754922710402</td>\n",
       "      <td>27650</td>\n",
       "      <td>2019-08-03</td>\n",
       "      <td>775492271</td>\n",
       "      <td>29.99</td>\n",
       "      <td>29.99</td>\n",
       "      <td>0.0</td>\n",
       "      <td>76</td>\n",
       "      <td>0.0</td>\n",
       "      <td>0.0</td>\n",
       "      <td>country_1</td>\n",
       "      <td>category_0</td>\n",
       "      <td>sub_category_0</td>\n",
       "      <td>brand_0</td>\n",
       "    </tr>\n",
       "    <tr>\n",
       "      <th>6</th>\n",
       "      <td>7754922710402</td>\n",
       "      <td>27650</td>\n",
       "      <td>2019-08-04</td>\n",
       "      <td>775492271</td>\n",
       "      <td>29.99</td>\n",
       "      <td>29.99</td>\n",
       "      <td>0.0</td>\n",
       "      <td>76</td>\n",
       "      <td>0.0</td>\n",
       "      <td>0.0</td>\n",
       "      <td>country_1</td>\n",
       "      <td>category_0</td>\n",
       "      <td>sub_category_0</td>\n",
       "      <td>brand_0</td>\n",
       "    </tr>\n",
       "    <tr>\n",
       "      <th>8</th>\n",
       "      <td>7754922710402</td>\n",
       "      <td>27650</td>\n",
       "      <td>2019-08-05</td>\n",
       "      <td>775492271</td>\n",
       "      <td>29.99</td>\n",
       "      <td>29.99</td>\n",
       "      <td>0.0</td>\n",
       "      <td>76</td>\n",
       "      <td>0.0</td>\n",
       "      <td>0.0</td>\n",
       "      <td>country_1</td>\n",
       "      <td>category_0</td>\n",
       "      <td>sub_category_0</td>\n",
       "      <td>brand_0</td>\n",
       "    </tr>\n",
       "    <tr>\n",
       "      <th>...</th>\n",
       "      <td>...</td>\n",
       "      <td>...</td>\n",
       "      <td>...</td>\n",
       "      <td>...</td>\n",
       "      <td>...</td>\n",
       "      <td>...</td>\n",
       "      <td>...</td>\n",
       "      <td>...</td>\n",
       "      <td>...</td>\n",
       "      <td>...</td>\n",
       "      <td>...</td>\n",
       "      <td>...</td>\n",
       "      <td>...</td>\n",
       "      <td>...</td>\n",
       "    </tr>\n",
       "    <tr>\n",
       "      <th>600</th>\n",
       "      <td>7754922710402</td>\n",
       "      <td>27650</td>\n",
       "      <td>2020-05-27</td>\n",
       "      <td>775492271</td>\n",
       "      <td>19.99</td>\n",
       "      <td>29.99</td>\n",
       "      <td>0.0</td>\n",
       "      <td>76</td>\n",
       "      <td>0.0</td>\n",
       "      <td>0.0</td>\n",
       "      <td>country_1</td>\n",
       "      <td>category_0</td>\n",
       "      <td>sub_category_0</td>\n",
       "      <td>brand_0</td>\n",
       "    </tr>\n",
       "    <tr>\n",
       "      <th>602</th>\n",
       "      <td>7754922710402</td>\n",
       "      <td>27650</td>\n",
       "      <td>2020-05-28</td>\n",
       "      <td>775492271</td>\n",
       "      <td>19.99</td>\n",
       "      <td>29.99</td>\n",
       "      <td>0.0</td>\n",
       "      <td>76</td>\n",
       "      <td>0.0</td>\n",
       "      <td>0.0</td>\n",
       "      <td>country_1</td>\n",
       "      <td>category_0</td>\n",
       "      <td>sub_category_0</td>\n",
       "      <td>brand_0</td>\n",
       "    </tr>\n",
       "    <tr>\n",
       "      <th>604</th>\n",
       "      <td>7754922710402</td>\n",
       "      <td>27650</td>\n",
       "      <td>2020-05-29</td>\n",
       "      <td>775492271</td>\n",
       "      <td>19.99</td>\n",
       "      <td>29.99</td>\n",
       "      <td>0.0</td>\n",
       "      <td>76</td>\n",
       "      <td>0.0</td>\n",
       "      <td>0.0</td>\n",
       "      <td>country_1</td>\n",
       "      <td>category_0</td>\n",
       "      <td>sub_category_0</td>\n",
       "      <td>brand_0</td>\n",
       "    </tr>\n",
       "    <tr>\n",
       "      <th>606</th>\n",
       "      <td>7754922710402</td>\n",
       "      <td>27650</td>\n",
       "      <td>2020-05-30</td>\n",
       "      <td>775492271</td>\n",
       "      <td>19.99</td>\n",
       "      <td>29.99</td>\n",
       "      <td>0.0</td>\n",
       "      <td>76</td>\n",
       "      <td>0.0</td>\n",
       "      <td>0.0</td>\n",
       "      <td>country_1</td>\n",
       "      <td>category_0</td>\n",
       "      <td>sub_category_0</td>\n",
       "      <td>brand_0</td>\n",
       "    </tr>\n",
       "    <tr>\n",
       "      <th>608</th>\n",
       "      <td>7754922710402</td>\n",
       "      <td>27650</td>\n",
       "      <td>2020-05-31</td>\n",
       "      <td>775492271</td>\n",
       "      <td>19.99</td>\n",
       "      <td>29.99</td>\n",
       "      <td>0.0</td>\n",
       "      <td>76</td>\n",
       "      <td>0.0</td>\n",
       "      <td>0.0</td>\n",
       "      <td>country_1</td>\n",
       "      <td>category_0</td>\n",
       "      <td>sub_category_0</td>\n",
       "      <td>brand_0</td>\n",
       "    </tr>\n",
       "  </tbody>\n",
       "</table>\n",
       "<p>305 rows × 14 columns</p>\n",
       "</div>"
      ],
      "text/plain": [
       "        article_id  location_id transaction_date  option_id  sales_price  \\\n",
       "0    7754922710402        27650       2019-08-01  775492271        29.99   \n",
       "2    7754922710402        27650       2019-08-02  775492271        29.99   \n",
       "4    7754922710402        27650       2019-08-03  775492271        29.99   \n",
       "6    7754922710402        27650       2019-08-04  775492271        29.99   \n",
       "8    7754922710402        27650       2019-08-05  775492271        29.99   \n",
       "..             ...          ...              ...        ...          ...   \n",
       "600  7754922710402        27650       2020-05-27  775492271        19.99   \n",
       "602  7754922710402        27650       2020-05-28  775492271        19.99   \n",
       "604  7754922710402        27650       2020-05-29  775492271        19.99   \n",
       "606  7754922710402        27650       2020-05-30  775492271        19.99   \n",
       "608  7754922710402        27650       2020-05-31  775492271        19.99   \n",
       "\n",
       "     original_price  promotion_discount  season_id  article_count  in_stock  \\\n",
       "0             29.99                 0.0         76            0.0       0.0   \n",
       "2             29.99                 0.0         76            0.0       0.0   \n",
       "4             29.99                 0.0         76            0.0       0.0   \n",
       "6             29.99                 0.0         76            0.0       0.0   \n",
       "8             29.99                 0.0         76            0.0       0.0   \n",
       "..              ...                 ...        ...            ...       ...   \n",
       "600           29.99                 0.0         76            0.0       0.0   \n",
       "602           29.99                 0.0         76            0.0       0.0   \n",
       "604           29.99                 0.0         76            0.0       0.0   \n",
       "606           29.99                 0.0         76            0.0       0.0   \n",
       "608           29.99                 0.0         76            0.0       0.0   \n",
       "\n",
       "       country    category sub_category_anonymized    brand  \n",
       "0    country_1  category_0          sub_category_0  brand_0  \n",
       "2    country_1  category_0          sub_category_0  brand_0  \n",
       "4    country_1  category_0          sub_category_0  brand_0  \n",
       "6    country_1  category_0          sub_category_0  brand_0  \n",
       "8    country_1  category_0          sub_category_0  brand_0  \n",
       "..         ...         ...                     ...      ...  \n",
       "600  country_1  category_0          sub_category_0  brand_0  \n",
       "602  country_1  category_0          sub_category_0  brand_0  \n",
       "604  country_1  category_0          sub_category_0  brand_0  \n",
       "606  country_1  category_0          sub_category_0  brand_0  \n",
       "608  country_1  category_0          sub_category_0  brand_0  \n",
       "\n",
       "[305 rows x 14 columns]"
      ]
     },
     "execution_count": 9,
     "metadata": {},
     "output_type": "execute_result"
    }
   ],
   "source": [
    "df_sales[(df_sales.article_id == 7754922710402) & (df_sales.location_id == 27650)]"
   ]
  },
  {
   "cell_type": "markdown",
   "id": "e11d4d8c",
   "metadata": {},
   "source": [
    "### Promotion Discounts != Discounts"
   ]
  },
  {
   "cell_type": "code",
   "execution_count": 10,
   "id": "306f0631",
   "metadata": {},
   "outputs": [
    {
     "data": {
      "text/html": [
       "<div>\n",
       "<style scoped>\n",
       "    .dataframe tbody tr th:only-of-type {\n",
       "        vertical-align: middle;\n",
       "    }\n",
       "\n",
       "    .dataframe tbody tr th {\n",
       "        vertical-align: top;\n",
       "    }\n",
       "\n",
       "    .dataframe thead th {\n",
       "        text-align: right;\n",
       "    }\n",
       "</style>\n",
       "<table border=\"1\" class=\"dataframe\">\n",
       "  <thead>\n",
       "    <tr style=\"text-align: right;\">\n",
       "      <th></th>\n",
       "      <th>article_id</th>\n",
       "      <th>location_id</th>\n",
       "      <th>transaction_date</th>\n",
       "      <th>option_id</th>\n",
       "      <th>sales_price</th>\n",
       "      <th>original_price</th>\n",
       "      <th>promotion_discount</th>\n",
       "      <th>season_id</th>\n",
       "      <th>article_count</th>\n",
       "      <th>in_stock</th>\n",
       "      <th>country</th>\n",
       "      <th>category</th>\n",
       "      <th>sub_category_anonymized</th>\n",
       "      <th>brand</th>\n",
       "    </tr>\n",
       "  </thead>\n",
       "  <tbody>\n",
       "    <tr>\n",
       "      <th>312</th>\n",
       "      <td>7754922710402</td>\n",
       "      <td>27650</td>\n",
       "      <td>2020-01-04</td>\n",
       "      <td>775492271</td>\n",
       "      <td>19.99</td>\n",
       "      <td>29.99</td>\n",
       "      <td>0.0</td>\n",
       "      <td>76</td>\n",
       "      <td>0.0</td>\n",
       "      <td>0.0</td>\n",
       "      <td>country_1</td>\n",
       "      <td>category_0</td>\n",
       "      <td>sub_category_0</td>\n",
       "      <td>brand_0</td>\n",
       "    </tr>\n",
       "    <tr>\n",
       "      <th>313</th>\n",
       "      <td>7754922710402</td>\n",
       "      <td>27875</td>\n",
       "      <td>2020-01-04</td>\n",
       "      <td>775492271</td>\n",
       "      <td>19.99</td>\n",
       "      <td>29.99</td>\n",
       "      <td>0.0</td>\n",
       "      <td>76</td>\n",
       "      <td>0.0</td>\n",
       "      <td>1.0</td>\n",
       "      <td>country_1</td>\n",
       "      <td>category_0</td>\n",
       "      <td>sub_category_0</td>\n",
       "      <td>brand_0</td>\n",
       "    </tr>\n",
       "    <tr>\n",
       "      <th>314</th>\n",
       "      <td>7754922710402</td>\n",
       "      <td>27650</td>\n",
       "      <td>2020-01-05</td>\n",
       "      <td>775492271</td>\n",
       "      <td>19.99</td>\n",
       "      <td>29.99</td>\n",
       "      <td>0.0</td>\n",
       "      <td>76</td>\n",
       "      <td>0.0</td>\n",
       "      <td>0.0</td>\n",
       "      <td>country_1</td>\n",
       "      <td>category_0</td>\n",
       "      <td>sub_category_0</td>\n",
       "      <td>brand_0</td>\n",
       "    </tr>\n",
       "    <tr>\n",
       "      <th>315</th>\n",
       "      <td>7754922710402</td>\n",
       "      <td>27875</td>\n",
       "      <td>2020-01-05</td>\n",
       "      <td>775492271</td>\n",
       "      <td>19.99</td>\n",
       "      <td>29.99</td>\n",
       "      <td>0.0</td>\n",
       "      <td>76</td>\n",
       "      <td>0.0</td>\n",
       "      <td>1.0</td>\n",
       "      <td>country_1</td>\n",
       "      <td>category_0</td>\n",
       "      <td>sub_category_0</td>\n",
       "      <td>brand_0</td>\n",
       "    </tr>\n",
       "    <tr>\n",
       "      <th>316</th>\n",
       "      <td>7754922710402</td>\n",
       "      <td>27650</td>\n",
       "      <td>2020-01-06</td>\n",
       "      <td>775492271</td>\n",
       "      <td>19.99</td>\n",
       "      <td>29.99</td>\n",
       "      <td>0.0</td>\n",
       "      <td>76</td>\n",
       "      <td>0.0</td>\n",
       "      <td>0.0</td>\n",
       "      <td>country_1</td>\n",
       "      <td>category_0</td>\n",
       "      <td>sub_category_0</td>\n",
       "      <td>brand_0</td>\n",
       "    </tr>\n",
       "  </tbody>\n",
       "</table>\n",
       "</div>"
      ],
      "text/plain": [
       "        article_id  location_id transaction_date  option_id  sales_price  \\\n",
       "312  7754922710402        27650       2020-01-04  775492271        19.99   \n",
       "313  7754922710402        27875       2020-01-04  775492271        19.99   \n",
       "314  7754922710402        27650       2020-01-05  775492271        19.99   \n",
       "315  7754922710402        27875       2020-01-05  775492271        19.99   \n",
       "316  7754922710402        27650       2020-01-06  775492271        19.99   \n",
       "\n",
       "     original_price  promotion_discount  season_id  article_count  in_stock  \\\n",
       "312           29.99                 0.0         76            0.0       0.0   \n",
       "313           29.99                 0.0         76            0.0       1.0   \n",
       "314           29.99                 0.0         76            0.0       0.0   \n",
       "315           29.99                 0.0         76            0.0       1.0   \n",
       "316           29.99                 0.0         76            0.0       0.0   \n",
       "\n",
       "       country    category sub_category_anonymized    brand  \n",
       "312  country_1  category_0          sub_category_0  brand_0  \n",
       "313  country_1  category_0          sub_category_0  brand_0  \n",
       "314  country_1  category_0          sub_category_0  brand_0  \n",
       "315  country_1  category_0          sub_category_0  brand_0  \n",
       "316  country_1  category_0          sub_category_0  brand_0  "
      ]
     },
     "execution_count": 10,
     "metadata": {},
     "output_type": "execute_result"
    }
   ],
   "source": [
    "df_sales[df_sales.sales_price < df_sales.original_price].head()"
   ]
  },
  {
   "cell_type": "markdown",
   "id": "89c27e06",
   "metadata": {},
   "source": [
    "### in_stock"
   ]
  },
  {
   "cell_type": "code",
   "execution_count": 11,
   "id": "fdb7092d",
   "metadata": {},
   "outputs": [
    {
     "data": {
      "text/plain": [
       "count    328246.000000\n",
       "mean          0.509807\n",
       "std           0.856760\n",
       "min           0.000000\n",
       "25%           0.000000\n",
       "50%           0.000000\n",
       "75%           1.000000\n",
       "max          12.000000\n",
       "Name: in_stock, dtype: float64"
      ]
     },
     "execution_count": 11,
     "metadata": {},
     "output_type": "execute_result"
    }
   ],
   "source": [
    "df_sales['in_stock'].describe()"
   ]
  },
  {
   "cell_type": "markdown",
   "id": "d5ae46ea",
   "metadata": {},
   "source": [
    "### article_id"
   ]
  },
  {
   "cell_type": "code",
   "execution_count": 12,
   "id": "5ddeddc4",
   "metadata": {},
   "outputs": [
    {
     "data": {
      "text/plain": [
       "count    14751.000000\n",
       "mean         0.005017\n",
       "std          0.089302\n",
       "min         -1.000000\n",
       "25%          0.000000\n",
       "50%          0.000000\n",
       "75%          0.000000\n",
       "max          2.000000\n",
       "Name: article_count, dtype: float64"
      ]
     },
     "execution_count": 12,
     "metadata": {},
     "output_type": "execute_result"
    }
   ],
   "source": [
    "df_sales[df_sales.article_id == 7754922710402]['article_count'].describe()"
   ]
  },
  {
   "cell_type": "markdown",
   "id": "98c62e67",
   "metadata": {},
   "source": [
    "### article_count\n",
    "\n",
    "In the absence of any clarification, I'm assuming that `article_count` refers to the number of articles sold on a daily basis. "
   ]
  },
  {
   "cell_type": "code",
   "execution_count": 13,
   "id": "75af8bfa",
   "metadata": {},
   "outputs": [
    {
     "data": {
      "text/plain": [
       "count    328246.000000\n",
       "mean          0.005606\n",
       "std           0.093697\n",
       "min          -2.000000\n",
       "25%           0.000000\n",
       "50%           0.000000\n",
       "75%           0.000000\n",
       "max           4.000000\n",
       "Name: article_count, dtype: float64"
      ]
     },
     "execution_count": 13,
     "metadata": {},
     "output_type": "execute_result"
    }
   ],
   "source": [
    "df_sales['article_count'].describe()"
   ]
  },
  {
   "cell_type": "markdown",
   "id": "b88f41c0",
   "metadata": {},
   "source": [
    "This number can be negative due to customer returns. \n",
    "\n",
    "#### maximum daily sales in any store = 4"
   ]
  },
  {
   "cell_type": "markdown",
   "id": "721a8272",
   "metadata": {},
   "source": [
    "### category info"
   ]
  },
  {
   "cell_type": "code",
   "execution_count": 14,
   "id": "ea6586ed",
   "metadata": {},
   "outputs": [
    {
     "data": {
      "text/plain": [
       "array(['category_0'], dtype=object)"
      ]
     },
     "execution_count": 14,
     "metadata": {},
     "output_type": "execute_result"
    }
   ],
   "source": [
    "df_sales['category'].unique()"
   ]
  },
  {
   "cell_type": "code",
   "execution_count": 15,
   "id": "bf8100c9",
   "metadata": {},
   "outputs": [
    {
     "data": {
      "text/plain": [
       "array(['sub_category_0'], dtype=object)"
      ]
     },
     "execution_count": 15,
     "metadata": {},
     "output_type": "execute_result"
    }
   ],
   "source": [
    "df_sales['sub_category_anonymized'].unique()"
   ]
  },
  {
   "cell_type": "code",
   "execution_count": 16,
   "id": "0518880f",
   "metadata": {},
   "outputs": [
    {
     "data": {
      "text/plain": [
       "array(['brand_0'], dtype=object)"
      ]
     },
     "execution_count": 16,
     "metadata": {},
     "output_type": "execute_result"
    }
   ],
   "source": [
    "df_sales['brand'].unique()"
   ]
  },
  {
   "cell_type": "markdown",
   "id": "0897df64",
   "metadata": {},
   "source": [
    "### season and option"
   ]
  },
  {
   "cell_type": "code",
   "execution_count": 17,
   "id": "27fa9c4f",
   "metadata": {},
   "outputs": [
    {
     "data": {
      "text/plain": [
       "array([76])"
      ]
     },
     "execution_count": 17,
     "metadata": {},
     "output_type": "execute_result"
    }
   ],
   "source": [
    "df_sales['season_id'].unique()"
   ]
  },
  {
   "cell_type": "code",
   "execution_count": 18,
   "id": "afb32924",
   "metadata": {},
   "outputs": [
    {
     "data": {
      "text/plain": [
       "array([775492271, 775492246])"
      ]
     },
     "execution_count": 18,
     "metadata": {},
     "output_type": "execute_result"
    }
   ],
   "source": [
    "df_sales['option_id'].unique()"
   ]
  },
  {
   "cell_type": "markdown",
   "id": "fe2fc9a2",
   "metadata": {},
   "source": [
    "### Type Conversions"
   ]
  },
  {
   "cell_type": "code",
   "execution_count": 19,
   "id": "6b6e6f16",
   "metadata": {},
   "outputs": [],
   "source": [
    "df_sales['transaction_date'] = pd.to_datetime(df_sales['transaction_date'])"
   ]
  },
  {
   "cell_type": "code",
   "execution_count": 20,
   "id": "f7e5e0ba",
   "metadata": {},
   "outputs": [
    {
     "data": {
      "text/plain": [
       "<AxesSubplot:xlabel='transaction_date'>"
      ]
     },
     "execution_count": 20,
     "metadata": {},
     "output_type": "execute_result"
    },
    {
     "data": {
      "image/png": "[encoded data removed]",
      "text/plain": [
       "<Figure size 432x288 with 1 Axes>"
      ]
     },
     "metadata": {
      "needs_background": "light"
     },
     "output_type": "display_data"
    }
   ],
   "source": [
    "df_sales[(df_sales.article_id == 7754922710402) & (df_sales.location_id == 27650)].sort_values('transaction_date').plot(x='transaction_date', y='article_count')"
   ]
  },
  {
   "cell_type": "markdown",
   "id": "42e581d5",
   "metadata": {},
   "source": [
    "## Grouping Data By Country\n",
    "\n",
    "Since the number of daily sales per store is quite low, it makes sense to aggregate the total daily sales per article and per country. If it is nececssary to forecast demand per article per store per country, then one can use a basic forecaster such as using the previous weeks/days sales as next weeks/days forecast. In fact, the number of sales in the previous week is an important predictor as we shall see.\n",
    "\n",
    "## The Problem \n",
    "\n",
    "From this point onwards, we assume that the problem is to predict weekly demand per article per country one week ahead of time. "
   ]
  },
  {
   "cell_type": "code",
   "execution_count": 21,
   "id": "aebf1403",
   "metadata": {},
   "outputs": [],
   "source": [
    "df_gr =  df_sales.groupby(['article_id', 'transaction_date', 'country'])['article_count'].sum().reset_index()"
   ]
  },
  {
   "cell_type": "code",
   "execution_count": 22,
   "id": "b6bd52f5",
   "metadata": {},
   "outputs": [
    {
     "data": {
      "text/html": [
       "<div>\n",
       "<style scoped>\n",
       "    .dataframe tbody tr th:only-of-type {\n",
       "        vertical-align: middle;\n",
       "    }\n",
       "\n",
       "    .dataframe tbody tr th {\n",
       "        vertical-align: top;\n",
       "    }\n",
       "\n",
       "    .dataframe thead th {\n",
       "        text-align: right;\n",
       "    }\n",
       "</style>\n",
       "<table border=\"1\" class=\"dataframe\">\n",
       "  <thead>\n",
       "    <tr style=\"text-align: right;\">\n",
       "      <th></th>\n",
       "      <th>article_id</th>\n",
       "      <th>transaction_date</th>\n",
       "      <th>country</th>\n",
       "      <th>article_count</th>\n",
       "    </tr>\n",
       "  </thead>\n",
       "  <tbody>\n",
       "    <tr>\n",
       "      <th>0</th>\n",
       "      <td>7754922460402</td>\n",
       "      <td>2019-08-01</td>\n",
       "      <td>country_1</td>\n",
       "      <td>0.0</td>\n",
       "    </tr>\n",
       "    <tr>\n",
       "      <th>1</th>\n",
       "      <td>7754922460402</td>\n",
       "      <td>2019-08-01</td>\n",
       "      <td>country_2</td>\n",
       "      <td>0.0</td>\n",
       "    </tr>\n",
       "    <tr>\n",
       "      <th>2</th>\n",
       "      <td>7754922460402</td>\n",
       "      <td>2019-08-02</td>\n",
       "      <td>country_1</td>\n",
       "      <td>0.0</td>\n",
       "    </tr>\n",
       "    <tr>\n",
       "      <th>3</th>\n",
       "      <td>7754922460402</td>\n",
       "      <td>2019-08-02</td>\n",
       "      <td>country_2</td>\n",
       "      <td>0.0</td>\n",
       "    </tr>\n",
       "    <tr>\n",
       "      <th>4</th>\n",
       "      <td>7754922460402</td>\n",
       "      <td>2019-08-03</td>\n",
       "      <td>country_1</td>\n",
       "      <td>0.0</td>\n",
       "    </tr>\n",
       "  </tbody>\n",
       "</table>\n",
       "</div>"
      ],
      "text/plain": [
       "      article_id transaction_date    country  article_count\n",
       "0  7754922460402       2019-08-01  country_1            0.0\n",
       "1  7754922460402       2019-08-01  country_2            0.0\n",
       "2  7754922460402       2019-08-02  country_1            0.0\n",
       "3  7754922460402       2019-08-02  country_2            0.0\n",
       "4  7754922460402       2019-08-03  country_1            0.0"
      ]
     },
     "execution_count": 22,
     "metadata": {},
     "output_type": "execute_result"
    }
   ],
   "source": [
    "df_gr.head()"
   ]
  },
  {
   "cell_type": "code",
   "execution_count": 23,
   "id": "0ec71fa1",
   "metadata": {},
   "outputs": [
    {
     "data": {
      "text/plain": [
       "array([7754922460402, 7754922460403, 7754922460404, 7754922460405,\n",
       "       7754922460406, 7754922460407, 7754922710402, 7754922710403,\n",
       "       7754922710404, 7754922710405, 7754922710406, 7754922710407])"
      ]
     },
     "execution_count": 23,
     "metadata": {},
     "output_type": "execute_result"
    }
   ],
   "source": [
    "df_gr.article_id.unique()"
   ]
  },
  {
   "cell_type": "code",
   "execution_count": 24,
   "id": "691abcc4",
   "metadata": {},
   "outputs": [
    {
     "data": {
      "text/plain": [
       "<AxesSubplot:xlabel='transaction_date'>"
      ]
     },
     "execution_count": 24,
     "metadata": {},
     "output_type": "execute_result"
    },
    {
     "data": {
      "image/png": "[encoded data removed]",
      "text/plain": [
       "<Figure size 432x288 with 1 Axes>"
      ]
     },
     "metadata": {
      "needs_background": "light"
     },
     "output_type": "display_data"
    }
   ],
   "source": [
    "df_gr[(df_gr.article_id == 7754922710405) & (df_gr.country == 'country_1')].sort_values('transaction_date').plot(x='transaction_date', y='article_count')"
   ]
  },
  {
   "cell_type": "code",
   "execution_count": 25,
   "id": "131892cd",
   "metadata": {},
   "outputs": [
    {
     "data": {
      "application/vnd.jupyter.widget-view+json": {
       "model_id": "1ab0143c7abe42beb467ff4bfb40cae3",
       "version_major": 2,
       "version_minor": 0
      },
      "text/plain": [
       "interactive(children=(Dropdown(description='country', options=('country_1', 'country_2', 'country_0'), value='…"
      ]
     },
     "metadata": {},
     "output_type": "display_data"
    }
   ],
   "source": [
    "import itertools\n",
    "\n",
    "\n",
    "@interact\n",
    "def create_country_sales_plots(country=list(df_gr.country.unique())):\n",
    "    articles = df_gr.article_id.unique()\n",
    "    nrows = 4\n",
    "    ncols = 3\n",
    "    nplots = itertools.product(range(nrows), range(ncols))\n",
    "\n",
    "    fig, axs = plt.subplots(nrows, ncols, figsize=(10, 8))\n",
    "    plt.subplots_adjust(left=1, bottom=0.5, right=3, top=4)\n",
    "\n",
    "\n",
    "    for art, (r, c) in zip(articles, nplots):\n",
    "        df_gr[(df_gr.article_id == art) & \n",
    "              (df_gr.country == country)].sort_values('transaction_date').plot(x='transaction_date', \n",
    "                                                                                   y='article_count', \n",
    "                                                                                   ax=axs[r, c])\n",
    "        axs[r, c].set_title(f'Article: {art}, Country: {country}')"
   ]
  },
  {
   "cell_type": "markdown",
   "id": "2bf99222",
   "metadata": {},
   "source": [
    "## Intermediate Conclusion\n",
    "\n",
    "The articles seem to be seasonal. Sales begin in October and end at around May of the following year. I would assume that these are clothing articles for a \"Fall-Winter\" collection. Very often such articles have to be sold off at a high discount towards the end of the season. I want to verify if this is indeed the case.  "
   ]
  },
  {
   "cell_type": "markdown",
   "id": "2576c5f6",
   "metadata": {},
   "source": [
    "## Create Joined Data Table"
   ]
  },
  {
   "cell_type": "code",
   "execution_count": 26,
   "id": "a6437561",
   "metadata": {},
   "outputs": [],
   "source": [
    "stock = df_sales.groupby(['article_id', 'country', 'transaction_date'])['in_stock'].sum().reset_index()['in_stock']"
   ]
  },
  {
   "cell_type": "code",
   "execution_count": 27,
   "id": "f818d5e6",
   "metadata": {},
   "outputs": [
    {
     "data": {
      "text/plain": [
       "count    8235.000000\n",
       "mean       20.320826\n",
       "std        32.189747\n",
       "min         0.000000\n",
       "25%         0.000000\n",
       "50%         7.000000\n",
       "75%        23.000000\n",
       "max       191.000000\n",
       "Name: in_stock, dtype: float64"
      ]
     },
     "execution_count": 27,
     "metadata": {},
     "output_type": "execute_result"
    }
   ],
   "source": [
    "stock.describe()"
   ]
  },
  {
   "cell_type": "code",
   "execution_count": 28,
   "id": "4189d3c0",
   "metadata": {},
   "outputs": [],
   "source": [
    "df_gr['in_stock'] = stock"
   ]
  },
  {
   "cell_type": "code",
   "execution_count": 29,
   "id": "f71c3225",
   "metadata": {},
   "outputs": [],
   "source": [
    "df_join = df_gr.merge(df_sales[['article_id', \n",
    "                                'transaction_date', \n",
    "                                'sales_price', \n",
    "                                'original_price', \n",
    "                                'country']].drop_duplicates(), \n",
    "                      how='inner', \n",
    "                      on=['article_id', 'transaction_date', 'country'])"
   ]
  },
  {
   "cell_type": "code",
   "execution_count": 30,
   "id": "adc6a4f4",
   "metadata": {},
   "outputs": [
    {
     "data": {
      "text/html": [
       "<div>\n",
       "<style scoped>\n",
       "    .dataframe tbody tr th:only-of-type {\n",
       "        vertical-align: middle;\n",
       "    }\n",
       "\n",
       "    .dataframe tbody tr th {\n",
       "        vertical-align: top;\n",
       "    }\n",
       "\n",
       "    .dataframe thead th {\n",
       "        text-align: right;\n",
       "    }\n",
       "</style>\n",
       "<table border=\"1\" class=\"dataframe\">\n",
       "  <thead>\n",
       "    <tr style=\"text-align: right;\">\n",
       "      <th></th>\n",
       "      <th>article_id</th>\n",
       "      <th>transaction_date</th>\n",
       "      <th>country</th>\n",
       "      <th>article_count</th>\n",
       "      <th>in_stock</th>\n",
       "      <th>sales_price</th>\n",
       "      <th>original_price</th>\n",
       "    </tr>\n",
       "  </thead>\n",
       "  <tbody>\n",
       "    <tr>\n",
       "      <th>0</th>\n",
       "      <td>7754922460402</td>\n",
       "      <td>2019-08-01</td>\n",
       "      <td>country_1</td>\n",
       "      <td>0.0</td>\n",
       "      <td>0.0</td>\n",
       "      <td>29.99</td>\n",
       "      <td>29.99</td>\n",
       "    </tr>\n",
       "    <tr>\n",
       "      <th>1</th>\n",
       "      <td>7754922460402</td>\n",
       "      <td>2019-08-01</td>\n",
       "      <td>country_2</td>\n",
       "      <td>0.0</td>\n",
       "      <td>0.0</td>\n",
       "      <td>29.99</td>\n",
       "      <td>29.99</td>\n",
       "    </tr>\n",
       "    <tr>\n",
       "      <th>2</th>\n",
       "      <td>7754922460402</td>\n",
       "      <td>2019-08-02</td>\n",
       "      <td>country_1</td>\n",
       "      <td>0.0</td>\n",
       "      <td>0.0</td>\n",
       "      <td>29.99</td>\n",
       "      <td>29.99</td>\n",
       "    </tr>\n",
       "    <tr>\n",
       "      <th>3</th>\n",
       "      <td>7754922460402</td>\n",
       "      <td>2019-08-02</td>\n",
       "      <td>country_2</td>\n",
       "      <td>0.0</td>\n",
       "      <td>0.0</td>\n",
       "      <td>29.99</td>\n",
       "      <td>29.99</td>\n",
       "    </tr>\n",
       "    <tr>\n",
       "      <th>4</th>\n",
       "      <td>7754922460402</td>\n",
       "      <td>2019-08-03</td>\n",
       "      <td>country_1</td>\n",
       "      <td>0.0</td>\n",
       "      <td>0.0</td>\n",
       "      <td>29.99</td>\n",
       "      <td>29.99</td>\n",
       "    </tr>\n",
       "  </tbody>\n",
       "</table>\n",
       "</div>"
      ],
      "text/plain": [
       "      article_id transaction_date    country  article_count  in_stock  \\\n",
       "0  7754922460402       2019-08-01  country_1            0.0       0.0   \n",
       "1  7754922460402       2019-08-01  country_2            0.0       0.0   \n",
       "2  7754922460402       2019-08-02  country_1            0.0       0.0   \n",
       "3  7754922460402       2019-08-02  country_2            0.0       0.0   \n",
       "4  7754922460402       2019-08-03  country_1            0.0       0.0   \n",
       "\n",
       "   sales_price  original_price  \n",
       "0        29.99           29.99  \n",
       "1        29.99           29.99  \n",
       "2        29.99           29.99  \n",
       "3        29.99           29.99  \n",
       "4        29.99           29.99  "
      ]
     },
     "execution_count": 30,
     "metadata": {},
     "output_type": "execute_result"
    }
   ],
   "source": [
    "df_join.head()"
   ]
  },
  {
   "cell_type": "code",
   "execution_count": 31,
   "id": "ad21b698",
   "metadata": {},
   "outputs": [
    {
     "data": {
      "text/plain": [
       "count    9465.000000\n",
       "mean       18.795140\n",
       "std        30.465385\n",
       "min         0.000000\n",
       "25%         0.000000\n",
       "50%         7.000000\n",
       "75%        19.000000\n",
       "max       191.000000\n",
       "Name: in_stock, dtype: float64"
      ]
     },
     "execution_count": 31,
     "metadata": {},
     "output_type": "execute_result"
    }
   ],
   "source": [
    "df_join['in_stock'].describe()"
   ]
  },
  {
   "cell_type": "code",
   "execution_count": 32,
   "id": "d0cef2e8",
   "metadata": {},
   "outputs": [],
   "source": [
    "df_join['discount'] = (df_join['original_price'] - df_join['sales_price']) / df_join['original_price'] * 100"
   ]
  },
  {
   "cell_type": "code",
   "execution_count": 33,
   "id": "f3ebc1b3",
   "metadata": {},
   "outputs": [
    {
     "data": {
      "text/plain": [
       "article_id          False\n",
       "transaction_date    False\n",
       "country             False\n",
       "article_count       False\n",
       "in_stock            False\n",
       "sales_price         False\n",
       "original_price      False\n",
       "discount            False\n",
       "dtype: bool"
      ]
     },
     "execution_count": 33,
     "metadata": {},
     "output_type": "execute_result"
    }
   ],
   "source": [
    "df_join.isna().any()"
   ]
  },
  {
   "cell_type": "code",
   "execution_count": 34,
   "id": "eb877752",
   "metadata": {},
   "outputs": [
    {
     "data": {
      "text/html": [
       "<div>\n",
       "<style scoped>\n",
       "    .dataframe tbody tr th:only-of-type {\n",
       "        vertical-align: middle;\n",
       "    }\n",
       "\n",
       "    .dataframe tbody tr th {\n",
       "        vertical-align: top;\n",
       "    }\n",
       "\n",
       "    .dataframe thead th {\n",
       "        text-align: right;\n",
       "    }\n",
       "</style>\n",
       "<table border=\"1\" class=\"dataframe\">\n",
       "  <thead>\n",
       "    <tr style=\"text-align: right;\">\n",
       "      <th></th>\n",
       "      <th>article_id</th>\n",
       "      <th>transaction_date</th>\n",
       "      <th>country</th>\n",
       "      <th>article_count</th>\n",
       "      <th>in_stock</th>\n",
       "      <th>sales_price</th>\n",
       "      <th>original_price</th>\n",
       "      <th>discount</th>\n",
       "    </tr>\n",
       "  </thead>\n",
       "  <tbody>\n",
       "    <tr>\n",
       "      <th>0</th>\n",
       "      <td>7754922460402</td>\n",
       "      <td>2019-08-01</td>\n",
       "      <td>country_1</td>\n",
       "      <td>0.0</td>\n",
       "      <td>0.0</td>\n",
       "      <td>29.99</td>\n",
       "      <td>29.99</td>\n",
       "      <td>0.0</td>\n",
       "    </tr>\n",
       "    <tr>\n",
       "      <th>1</th>\n",
       "      <td>7754922460402</td>\n",
       "      <td>2019-08-01</td>\n",
       "      <td>country_2</td>\n",
       "      <td>0.0</td>\n",
       "      <td>0.0</td>\n",
       "      <td>29.99</td>\n",
       "      <td>29.99</td>\n",
       "      <td>0.0</td>\n",
       "    </tr>\n",
       "    <tr>\n",
       "      <th>2</th>\n",
       "      <td>7754922460402</td>\n",
       "      <td>2019-08-02</td>\n",
       "      <td>country_1</td>\n",
       "      <td>0.0</td>\n",
       "      <td>0.0</td>\n",
       "      <td>29.99</td>\n",
       "      <td>29.99</td>\n",
       "      <td>0.0</td>\n",
       "    </tr>\n",
       "    <tr>\n",
       "      <th>3</th>\n",
       "      <td>7754922460402</td>\n",
       "      <td>2019-08-02</td>\n",
       "      <td>country_2</td>\n",
       "      <td>0.0</td>\n",
       "      <td>0.0</td>\n",
       "      <td>29.99</td>\n",
       "      <td>29.99</td>\n",
       "      <td>0.0</td>\n",
       "    </tr>\n",
       "    <tr>\n",
       "      <th>4</th>\n",
       "      <td>7754922460402</td>\n",
       "      <td>2019-08-03</td>\n",
       "      <td>country_1</td>\n",
       "      <td>0.0</td>\n",
       "      <td>0.0</td>\n",
       "      <td>29.99</td>\n",
       "      <td>29.99</td>\n",
       "      <td>0.0</td>\n",
       "    </tr>\n",
       "  </tbody>\n",
       "</table>\n",
       "</div>"
      ],
      "text/plain": [
       "      article_id transaction_date    country  article_count  in_stock  \\\n",
       "0  7754922460402       2019-08-01  country_1            0.0       0.0   \n",
       "1  7754922460402       2019-08-01  country_2            0.0       0.0   \n",
       "2  7754922460402       2019-08-02  country_1            0.0       0.0   \n",
       "3  7754922460402       2019-08-02  country_2            0.0       0.0   \n",
       "4  7754922460402       2019-08-03  country_1            0.0       0.0   \n",
       "\n",
       "   sales_price  original_price  discount  \n",
       "0        29.99           29.99       0.0  \n",
       "1        29.99           29.99       0.0  \n",
       "2        29.99           29.99       0.0  \n",
       "3        29.99           29.99       0.0  \n",
       "4        29.99           29.99       0.0  "
      ]
     },
     "execution_count": 34,
     "metadata": {},
     "output_type": "execute_result"
    }
   ],
   "source": [
    "df_join.head()"
   ]
  },
  {
   "cell_type": "markdown",
   "id": "4b2701b8",
   "metadata": {},
   "source": [
    "## Discounts Off-Season"
   ]
  },
  {
   "cell_type": "code",
   "execution_count": 35,
   "id": "3a75c29a",
   "metadata": {},
   "outputs": [
    {
     "name": "stdout",
     "output_type": "stream",
     "text": [
      "Discount for article 7754922460402 from 2020-05-01 onwards = 22.229632099588756\n",
      "Discount for article 7754922460403 from 2020-05-01 onwards = 16.67222407469157\n",
      "Discount for article 7754922460404 from 2020-05-01 onwards = 16.67222407469157\n",
      "Discount for article 7754922460405 from 2020-05-01 onwards = 22.229632099588756\n",
      "Discount for article 7754922460406 from 2020-05-01 onwards = 22.229632099588756\n",
      "Discount for article 7754922460407 from 2020-05-01 onwards = 22.229632099588756\n",
      "Discount for article 7754922710402 from 2020-05-01 onwards = 22.229632099588756\n",
      "Discount for article 7754922710403 from 2020-05-01 onwards = 22.229632099588756\n",
      "Discount for article 7754922710404 from 2020-05-01 onwards = 16.67222407469157\n",
      "Discount for article 7754922710405 from 2020-05-01 onwards = 22.229632099588756\n",
      "Discount for article 7754922710406 from 2020-05-01 onwards = 33.34444814938314\n",
      "Discount for article 7754922710407 from 2020-05-01 onwards = 33.34444814938314\n"
     ]
    }
   ],
   "source": [
    "articles = df_join.article_id.unique()\n",
    "date = '2020-05-01'\n",
    "\n",
    "for art in articles:\n",
    "    disc = df_join[(df_join.article_id == art) & (df_join.transaction_date >= date)]['discount'].mean()\n",
    "    print(f'Discount for article {art} from {date} onwards = {disc}')"
   ]
  },
  {
   "cell_type": "markdown",
   "id": "4b72964f",
   "metadata": {},
   "source": [
    "## Discounts In-season"
   ]
  },
  {
   "cell_type": "code",
   "execution_count": 36,
   "id": "98f83151",
   "metadata": {},
   "outputs": [
    {
     "name": "stdout",
     "output_type": "stream",
     "text": [
      "Discount for article 7754922460402 from 2020-05-01 onwards = 12.143965684034598\n",
      "Discount for article 7754922460403 from 2020-05-01 onwards = 8.535021435200022\n",
      "Discount for article 7754922460404 from 2020-05-01 onwards = 8.535021435200022\n",
      "Discount for article 7754922460405 from 2020-05-01 onwards = 12.143965684034598\n",
      "Discount for article 7754922460406 from 2020-05-01 onwards = 12.143965684034598\n",
      "Discount for article 7754922460407 from 2020-05-01 onwards = 12.143965684034598\n",
      "Discount for article 7754922710402 from 2020-05-01 onwards = 12.530716183526145\n",
      "Discount for article 7754922710403 from 2020-05-01 onwards = 12.530716183526145\n",
      "Discount for article 7754922710404 from 2020-05-01 onwards = 8.724268030215544\n",
      "Discount for article 7754922710405 from 2020-05-01 onwards = 12.530716183526145\n",
      "Discount for article 7754922710406 from 2020-05-01 onwards = 14.360017816157697\n",
      "Discount for article 7754922710407 from 2020-05-01 onwards = 14.360017816157697\n"
     ]
    }
   ],
   "source": [
    "for art in articles:\n",
    "    disc = df_join[(df_join.article_id == art) & (df_join.transaction_date < date)]['discount'].mean()\n",
    "    print(f'Discount for article {art} from {date} onwards = {disc}')"
   ]
  },
  {
   "cell_type": "markdown",
   "id": "4fb420b7",
   "metadata": {},
   "source": [
    "## Intermediate Conclusion\n",
    "\n",
    "As suspected, the off-season discount for these articles is around 2 times the in-season discount. I am proceeding with the assumption that these articles have a short winter sales season and must be sold off to make space for the \"Spring-Summer\" collection."
   ]
  },
  {
   "cell_type": "markdown",
   "id": "b170fa1e",
   "metadata": {},
   "source": [
    "## Save Grouped Data"
   ]
  },
  {
   "cell_type": "code",
   "execution_count": 37,
   "id": "167b37ce",
   "metadata": {},
   "outputs": [],
   "source": [
    "df_join.to_csv('sales_data_cleaned.csv', index=False)"
   ]
  },
  {
   "cell_type": "markdown",
   "id": "b35cb6da",
   "metadata": {},
   "source": [
    "## Preliminary Plots"
   ]
  },
  {
   "cell_type": "code",
   "execution_count": 38,
   "id": "02034a37",
   "metadata": {},
   "outputs": [],
   "source": [
    "import itertools\n",
    "\n",
    "\n",
    "def generate_plots(x: str, y: str = 'Sales'):\n",
    "    nrows = 2\n",
    "    ncols = 2\n",
    "    nplots = itertools.product(range(nrows), range(ncols))\n",
    "\n",
    "    fig, axs = plt.subplots(nrows, ncols, figsize=(10, 8))\n",
    "    plt.subplots_adjust(left=1, bottom=1, right=3, top=3)\n",
    "\n",
    "    for idx, (i, j) in enumerate(nplots):\n",
    "        store = idx + 1\n",
    "        df_sales[df_sales['Store'] == store].sort_values('Date').plot(x=x, y=y, ax=axs[i, j])\n",
    "        axs[i, j].set_title(f'Store {store}')"
   ]
  },
  {
   "cell_type": "code",
   "execution_count": 39,
   "id": "0b36459e",
   "metadata": {},
   "outputs": [
    {
     "name": "stdout",
     "output_type": "stream",
     "text": [
      "numpy     : 1.20.2\n",
      "seaborn   : 0.11.1\n",
      "pandas    : 1.2.4\n",
      "matplotlib: 3.4.1\n",
      "\n"
     ]
    }
   ],
   "source": [
    "%watermark --iversions"
   ]
  }
 ],
 "metadata": {
  "kernelspec": {
   "display_name": "ai",
   "language": "python",
   "name": "ai"
  },
  "language_info": {
   "codemirror_mode": {
    "name": "ipython",
    "version": 3
   },
   "file_extension": ".py",
   "mimetype": "text/x-python",
   "name": "python",
   "nbconvert_exporter": "python",
   "pygments_lexer": "ipython3",
   "version": "3.9.2"
  }
 },
 "nbformat": 4,
 "nbformat_minor": 5
}
