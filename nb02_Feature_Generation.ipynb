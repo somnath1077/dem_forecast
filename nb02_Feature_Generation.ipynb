{
 "cells": [
  {
   "cell_type": "code",
   "execution_count": 1,
   "id": "afd7b5c6",
   "metadata": {},
   "outputs": [],
   "source": [
    "%load_ext watermark\n",
    "\n",
    "import ipywidgets as widgets\n",
    "import itertools\n",
    "import pandas as pd\n",
    "import numpy as np\n",
    "import matplotlib.pyplot as plt\n",
    "import seaborn as sns\n",
    "from typing import List\n",
    "\n",
    "from ipywidgets import interact, interact_manual\n",
    "\n",
    "\n",
    "sns.set_style()\n",
    "\n",
    "SALES_DATA_BY_COUNTRY = 'sales_data_cleaned.csv'"
   ]
  },
  {
   "cell_type": "code",
   "execution_count": 2,
   "id": "b71b0b71",
   "metadata": {},
   "outputs": [
    {
     "name": "stdout",
     "output_type": "stream",
     "text": [
      "<class 'pandas.core.frame.DataFrame'>\n",
      "RangeIndex: 9465 entries, 0 to 9464\n",
      "Data columns (total 8 columns):\n",
      " #   Column            Non-Null Count  Dtype  \n",
      "---  ------            --------------  -----  \n",
      " 0   article_id        9465 non-null   int64  \n",
      " 1   transaction_date  9465 non-null   object \n",
      " 2   country           9465 non-null   object \n",
      " 3   article_count     9465 non-null   float64\n",
      " 4   in_stock          9465 non-null   float64\n",
      " 5   sales_price       9465 non-null   float64\n",
      " 6   original_price    9465 non-null   float64\n",
      " 7   discount          9465 non-null   float64\n",
      "dtypes: float64(5), int64(1), object(2)\n",
      "memory usage: 591.7+ KB\n"
     ]
    }
   ],
   "source": [
    "sales_by_country = pd.read_csv(SALES_DATA_BY_COUNTRY)\n",
    "sales_by_country.info()"
   ]
  },
  {
   "cell_type": "code",
   "execution_count": 3,
   "id": "6a57081d",
   "metadata": {},
   "outputs": [],
   "source": [
    "sales_by_country['transaction_date'] = pd.to_datetime(sales_by_country['transaction_date'])"
   ]
  },
  {
   "cell_type": "markdown",
   "id": "5ac425a8",
   "metadata": {},
   "source": [
    "## Add Week of Year and Month"
   ]
  },
  {
   "cell_type": "code",
   "execution_count": 4,
   "id": "91a2583a",
   "metadata": {},
   "outputs": [],
   "source": [
    "sales_by_country['week'] = sales_by_country['transaction_date'].dt.isocalendar().week\n",
    "sales_by_country['month'] = sales_by_country['transaction_date'].dt.month\n",
    "sales_by_country['year'] = sales_by_country['transaction_date'].dt.year"
   ]
  },
  {
   "cell_type": "code",
   "execution_count": 5,
   "id": "21e34673",
   "metadata": {},
   "outputs": [
    {
     "data": {
      "text/html": [
       "<div>\n",
       "<style scoped>\n",
       "    .dataframe tbody tr th:only-of-type {\n",
       "        vertical-align: middle;\n",
       "    }\n",
       "\n",
       "    .dataframe tbody tr th {\n",
       "        vertical-align: top;\n",
       "    }\n",
       "\n",
       "    .dataframe thead th {\n",
       "        text-align: right;\n",
       "    }\n",
       "</style>\n",
       "<table border=\"1\" class=\"dataframe\">\n",
       "  <thead>\n",
       "    <tr style=\"text-align: right;\">\n",
       "      <th></th>\n",
       "      <th>article_id</th>\n",
       "      <th>transaction_date</th>\n",
       "      <th>country</th>\n",
       "      <th>article_count</th>\n",
       "      <th>in_stock</th>\n",
       "      <th>sales_price</th>\n",
       "      <th>original_price</th>\n",
       "      <th>discount</th>\n",
       "      <th>week</th>\n",
       "      <th>month</th>\n",
       "      <th>year</th>\n",
       "    </tr>\n",
       "  </thead>\n",
       "  <tbody>\n",
       "    <tr>\n",
       "      <th>2665</th>\n",
       "      <td>7754922460404</td>\n",
       "      <td>2020-04-20</td>\n",
       "      <td>country_0</td>\n",
       "      <td>0.0</td>\n",
       "      <td>12.0</td>\n",
       "      <td>49.95</td>\n",
       "      <td>49.95</td>\n",
       "      <td>0.000000</td>\n",
       "      <td>17</td>\n",
       "      <td>4</td>\n",
       "      <td>2020</td>\n",
       "    </tr>\n",
       "    <tr>\n",
       "      <th>1382</th>\n",
       "      <td>7754922460403</td>\n",
       "      <td>2020-02-20</td>\n",
       "      <td>country_2</td>\n",
       "      <td>0.0</td>\n",
       "      <td>0.0</td>\n",
       "      <td>19.99</td>\n",
       "      <td>29.99</td>\n",
       "      <td>33.344448</td>\n",
       "      <td>8</td>\n",
       "      <td>2</td>\n",
       "      <td>2020</td>\n",
       "    </tr>\n",
       "    <tr>\n",
       "      <th>2085</th>\n",
       "      <td>7754922460404</td>\n",
       "      <td>2019-11-08</td>\n",
       "      <td>country_1</td>\n",
       "      <td>1.0</td>\n",
       "      <td>1.0</td>\n",
       "      <td>29.99</td>\n",
       "      <td>29.99</td>\n",
       "      <td>0.000000</td>\n",
       "      <td>45</td>\n",
       "      <td>11</td>\n",
       "      <td>2019</td>\n",
       "    </tr>\n",
       "    <tr>\n",
       "      <th>4376</th>\n",
       "      <td>7754922460407</td>\n",
       "      <td>2019-08-31</td>\n",
       "      <td>country_2</td>\n",
       "      <td>0.0</td>\n",
       "      <td>0.0</td>\n",
       "      <td>29.99</td>\n",
       "      <td>29.99</td>\n",
       "      <td>0.000000</td>\n",
       "      <td>35</td>\n",
       "      <td>8</td>\n",
       "      <td>2019</td>\n",
       "    </tr>\n",
       "    <tr>\n",
       "      <th>5822</th>\n",
       "      <td>7754922710403</td>\n",
       "      <td>2019-08-23</td>\n",
       "      <td>country_2</td>\n",
       "      <td>0.0</td>\n",
       "      <td>0.0</td>\n",
       "      <td>29.99</td>\n",
       "      <td>29.99</td>\n",
       "      <td>0.000000</td>\n",
       "      <td>34</td>\n",
       "      <td>8</td>\n",
       "      <td>2019</td>\n",
       "    </tr>\n",
       "    <tr>\n",
       "      <th>5027</th>\n",
       "      <td>7754922460407</td>\n",
       "      <td>2020-05-22</td>\n",
       "      <td>country_1</td>\n",
       "      <td>0.0</td>\n",
       "      <td>5.0</td>\n",
       "      <td>19.99</td>\n",
       "      <td>19.99</td>\n",
       "      <td>0.000000</td>\n",
       "      <td>21</td>\n",
       "      <td>5</td>\n",
       "      <td>2020</td>\n",
       "    </tr>\n",
       "    <tr>\n",
       "      <th>2922</th>\n",
       "      <td>7754922460405</td>\n",
       "      <td>2019-09-14</td>\n",
       "      <td>country_2</td>\n",
       "      <td>0.0</td>\n",
       "      <td>19.0</td>\n",
       "      <td>29.99</td>\n",
       "      <td>29.99</td>\n",
       "      <td>0.000000</td>\n",
       "      <td>37</td>\n",
       "      <td>9</td>\n",
       "      <td>2019</td>\n",
       "    </tr>\n",
       "    <tr>\n",
       "      <th>4367</th>\n",
       "      <td>7754922460407</td>\n",
       "      <td>2019-08-27</td>\n",
       "      <td>country_1</td>\n",
       "      <td>0.0</td>\n",
       "      <td>0.0</td>\n",
       "      <td>29.99</td>\n",
       "      <td>29.99</td>\n",
       "      <td>0.000000</td>\n",
       "      <td>35</td>\n",
       "      <td>8</td>\n",
       "      <td>2019</td>\n",
       "    </tr>\n",
       "    <tr>\n",
       "      <th>600</th>\n",
       "      <td>7754922460402</td>\n",
       "      <td>2020-04-15</td>\n",
       "      <td>country_1</td>\n",
       "      <td>0.0</td>\n",
       "      <td>5.0</td>\n",
       "      <td>19.99</td>\n",
       "      <td>29.99</td>\n",
       "      <td>33.344448</td>\n",
       "      <td>16</td>\n",
       "      <td>4</td>\n",
       "      <td>2020</td>\n",
       "    </tr>\n",
       "    <tr>\n",
       "      <th>5722</th>\n",
       "      <td>7754922710402</td>\n",
       "      <td>2020-05-13</td>\n",
       "      <td>country_2</td>\n",
       "      <td>0.0</td>\n",
       "      <td>8.0</td>\n",
       "      <td>19.99</td>\n",
       "      <td>29.99</td>\n",
       "      <td>33.344448</td>\n",
       "      <td>20</td>\n",
       "      <td>5</td>\n",
       "      <td>2020</td>\n",
       "    </tr>\n",
       "  </tbody>\n",
       "</table>\n",
       "</div>"
      ],
      "text/plain": [
       "         article_id transaction_date    country  article_count  in_stock  \\\n",
       "2665  7754922460404       2020-04-20  country_0            0.0      12.0   \n",
       "1382  7754922460403       2020-02-20  country_2            0.0       0.0   \n",
       "2085  7754922460404       2019-11-08  country_1            1.0       1.0   \n",
       "4376  7754922460407       2019-08-31  country_2            0.0       0.0   \n",
       "5822  7754922710403       2019-08-23  country_2            0.0       0.0   \n",
       "5027  7754922460407       2020-05-22  country_1            0.0       5.0   \n",
       "2922  7754922460405       2019-09-14  country_2            0.0      19.0   \n",
       "4367  7754922460407       2019-08-27  country_1            0.0       0.0   \n",
       "600   7754922460402       2020-04-15  country_1            0.0       5.0   \n",
       "5722  7754922710402       2020-05-13  country_2            0.0       8.0   \n",
       "\n",
       "      sales_price  original_price   discount  week  month  year  \n",
       "2665        49.95           49.95   0.000000    17      4  2020  \n",
       "1382        19.99           29.99  33.344448     8      2  2020  \n",
       "2085        29.99           29.99   0.000000    45     11  2019  \n",
       "4376        29.99           29.99   0.000000    35      8  2019  \n",
       "5822        29.99           29.99   0.000000    34      8  2019  \n",
       "5027        19.99           19.99   0.000000    21      5  2020  \n",
       "2922        29.99           29.99   0.000000    37      9  2019  \n",
       "4367        29.99           29.99   0.000000    35      8  2019  \n",
       "600         19.99           29.99  33.344448    16      4  2020  \n",
       "5722        19.99           29.99  33.344448    20      5  2020  "
      ]
     },
     "execution_count": 5,
     "metadata": {},
     "output_type": "execute_result"
    }
   ],
   "source": [
    "sales_by_country.sample(n=10)"
   ]
  },
  {
   "cell_type": "markdown",
   "id": "d13c1a79",
   "metadata": {},
   "source": [
    "## Aggregate Data by Article-Id, Country, Week, Year"
   ]
  },
  {
   "cell_type": "code",
   "execution_count": 6,
   "id": "2aa6c83b",
   "metadata": {},
   "outputs": [],
   "source": [
    "AGG_COLS = ['article_id', 'country', 'year', 'week']\n",
    "\n",
    "def first(x):\n",
    "    return x.iloc[0]\n",
    "\n",
    "def last(x):\n",
    "    return x.iloc[-1]\n",
    "\n",
    "sales_by_country['stock_begin_week'] = sales_by_country.sort_values('transaction_date').groupby(AGG_COLS)['in_stock'].transform(first)"
   ]
  },
  {
   "cell_type": "code",
   "execution_count": 7,
   "id": "16a0f058",
   "metadata": {},
   "outputs": [
    {
     "data": {
      "text/html": [
       "<div>\n",
       "<style scoped>\n",
       "    .dataframe tbody tr th:only-of-type {\n",
       "        vertical-align: middle;\n",
       "    }\n",
       "\n",
       "    .dataframe tbody tr th {\n",
       "        vertical-align: top;\n",
       "    }\n",
       "\n",
       "    .dataframe thead th {\n",
       "        text-align: right;\n",
       "    }\n",
       "</style>\n",
       "<table border=\"1\" class=\"dataframe\">\n",
       "  <thead>\n",
       "    <tr style=\"text-align: right;\">\n",
       "      <th></th>\n",
       "      <th>article_id</th>\n",
       "      <th>transaction_date</th>\n",
       "      <th>country</th>\n",
       "      <th>article_count</th>\n",
       "      <th>in_stock</th>\n",
       "      <th>sales_price</th>\n",
       "      <th>original_price</th>\n",
       "      <th>discount</th>\n",
       "      <th>week</th>\n",
       "      <th>month</th>\n",
       "      <th>year</th>\n",
       "      <th>stock_begin_week</th>\n",
       "    </tr>\n",
       "  </thead>\n",
       "  <tbody>\n",
       "    <tr>\n",
       "      <th>0</th>\n",
       "      <td>7754922460402</td>\n",
       "      <td>2019-08-01</td>\n",
       "      <td>country_1</td>\n",
       "      <td>0.0</td>\n",
       "      <td>0.0</td>\n",
       "      <td>29.99</td>\n",
       "      <td>29.99</td>\n",
       "      <td>0.0</td>\n",
       "      <td>31</td>\n",
       "      <td>8</td>\n",
       "      <td>2019</td>\n",
       "      <td>0.0</td>\n",
       "    </tr>\n",
       "    <tr>\n",
       "      <th>1</th>\n",
       "      <td>7754922460402</td>\n",
       "      <td>2019-08-01</td>\n",
       "      <td>country_2</td>\n",
       "      <td>0.0</td>\n",
       "      <td>0.0</td>\n",
       "      <td>29.99</td>\n",
       "      <td>29.99</td>\n",
       "      <td>0.0</td>\n",
       "      <td>31</td>\n",
       "      <td>8</td>\n",
       "      <td>2019</td>\n",
       "      <td>0.0</td>\n",
       "    </tr>\n",
       "    <tr>\n",
       "      <th>2</th>\n",
       "      <td>7754922460402</td>\n",
       "      <td>2019-08-02</td>\n",
       "      <td>country_1</td>\n",
       "      <td>0.0</td>\n",
       "      <td>0.0</td>\n",
       "      <td>29.99</td>\n",
       "      <td>29.99</td>\n",
       "      <td>0.0</td>\n",
       "      <td>31</td>\n",
       "      <td>8</td>\n",
       "      <td>2019</td>\n",
       "      <td>0.0</td>\n",
       "    </tr>\n",
       "    <tr>\n",
       "      <th>3</th>\n",
       "      <td>7754922460402</td>\n",
       "      <td>2019-08-02</td>\n",
       "      <td>country_2</td>\n",
       "      <td>0.0</td>\n",
       "      <td>0.0</td>\n",
       "      <td>29.99</td>\n",
       "      <td>29.99</td>\n",
       "      <td>0.0</td>\n",
       "      <td>31</td>\n",
       "      <td>8</td>\n",
       "      <td>2019</td>\n",
       "      <td>0.0</td>\n",
       "    </tr>\n",
       "    <tr>\n",
       "      <th>4</th>\n",
       "      <td>7754922460402</td>\n",
       "      <td>2019-08-03</td>\n",
       "      <td>country_1</td>\n",
       "      <td>0.0</td>\n",
       "      <td>0.0</td>\n",
       "      <td>29.99</td>\n",
       "      <td>29.99</td>\n",
       "      <td>0.0</td>\n",
       "      <td>31</td>\n",
       "      <td>8</td>\n",
       "      <td>2019</td>\n",
       "      <td>0.0</td>\n",
       "    </tr>\n",
       "  </tbody>\n",
       "</table>\n",
       "</div>"
      ],
      "text/plain": [
       "      article_id transaction_date    country  article_count  in_stock  \\\n",
       "0  7754922460402       2019-08-01  country_1            0.0       0.0   \n",
       "1  7754922460402       2019-08-01  country_2            0.0       0.0   \n",
       "2  7754922460402       2019-08-02  country_1            0.0       0.0   \n",
       "3  7754922460402       2019-08-02  country_2            0.0       0.0   \n",
       "4  7754922460402       2019-08-03  country_1            0.0       0.0   \n",
       "\n",
       "   sales_price  original_price  discount  week  month  year  stock_begin_week  \n",
       "0        29.99           29.99       0.0    31      8  2019               0.0  \n",
       "1        29.99           29.99       0.0    31      8  2019               0.0  \n",
       "2        29.99           29.99       0.0    31      8  2019               0.0  \n",
       "3        29.99           29.99       0.0    31      8  2019               0.0  \n",
       "4        29.99           29.99       0.0    31      8  2019               0.0  "
      ]
     },
     "execution_count": 7,
     "metadata": {},
     "output_type": "execute_result"
    }
   ],
   "source": [
    "sales_by_country.head()"
   ]
  },
  {
   "cell_type": "code",
   "execution_count": 8,
   "id": "d4fcfd94",
   "metadata": {},
   "outputs": [],
   "source": [
    "aggregate_dict = {\n",
    "    'article_count': np.sum,\n",
    "    'sales_price': np.mean,\n",
    "    'original_price': np.mean,\n",
    "    'discount': np.mean,\n",
    "    'stock_begin_week': np.min,\n",
    "    'month': np.min,\n",
    "    'transaction_date': np.min\n",
    "}\n",
    "\n",
    "df_agg = sales_by_country.sort_values('transaction_date').groupby(AGG_COLS).agg(aggregate_dict).reset_index()"
   ]
  },
  {
   "cell_type": "code",
   "execution_count": 9,
   "id": "3c1b70e4",
   "metadata": {},
   "outputs": [
    {
     "data": {
      "text/html": [
       "<div>\n",
       "<style scoped>\n",
       "    .dataframe tbody tr th:only-of-type {\n",
       "        vertical-align: middle;\n",
       "    }\n",
       "\n",
       "    .dataframe tbody tr th {\n",
       "        vertical-align: top;\n",
       "    }\n",
       "\n",
       "    .dataframe thead th {\n",
       "        text-align: right;\n",
       "    }\n",
       "</style>\n",
       "<table border=\"1\" class=\"dataframe\">\n",
       "  <thead>\n",
       "    <tr style=\"text-align: right;\">\n",
       "      <th></th>\n",
       "      <th>article_id</th>\n",
       "      <th>country</th>\n",
       "      <th>year</th>\n",
       "      <th>week</th>\n",
       "      <th>article_count</th>\n",
       "      <th>sales_price</th>\n",
       "      <th>original_price</th>\n",
       "      <th>discount</th>\n",
       "      <th>stock_begin_week</th>\n",
       "      <th>month</th>\n",
       "      <th>transaction_date</th>\n",
       "    </tr>\n",
       "  </thead>\n",
       "  <tbody>\n",
       "    <tr>\n",
       "      <th>720</th>\n",
       "      <td>7754922710403</td>\n",
       "      <td>country_1</td>\n",
       "      <td>2019</td>\n",
       "      <td>1</td>\n",
       "      <td>-1.0</td>\n",
       "      <td>29.99</td>\n",
       "      <td>29.99</td>\n",
       "      <td>0.000000</td>\n",
       "      <td>14.0</td>\n",
       "      <td>12</td>\n",
       "      <td>2019-12-30</td>\n",
       "    </tr>\n",
       "    <tr>\n",
       "      <th>654</th>\n",
       "      <td>7754922710402</td>\n",
       "      <td>country_1</td>\n",
       "      <td>2020</td>\n",
       "      <td>2</td>\n",
       "      <td>1.0</td>\n",
       "      <td>19.99</td>\n",
       "      <td>29.99</td>\n",
       "      <td>33.344448</td>\n",
       "      <td>0.0</td>\n",
       "      <td>1</td>\n",
       "      <td>2020-01-06</td>\n",
       "    </tr>\n",
       "    <tr>\n",
       "      <th>156</th>\n",
       "      <td>7754922460403</td>\n",
       "      <td>country_1</td>\n",
       "      <td>2019</td>\n",
       "      <td>51</td>\n",
       "      <td>5.0</td>\n",
       "      <td>29.99</td>\n",
       "      <td>29.99</td>\n",
       "      <td>0.000000</td>\n",
       "      <td>88.0</td>\n",
       "      <td>12</td>\n",
       "      <td>2019-12-16</td>\n",
       "    </tr>\n",
       "    <tr>\n",
       "      <th>815</th>\n",
       "      <td>7754922710404</td>\n",
       "      <td>country_0</td>\n",
       "      <td>2019</td>\n",
       "      <td>35</td>\n",
       "      <td>0.0</td>\n",
       "      <td>49.95</td>\n",
       "      <td>49.95</td>\n",
       "      <td>0.000000</td>\n",
       "      <td>0.0</td>\n",
       "      <td>8</td>\n",
       "      <td>2019-08-26</td>\n",
       "    </tr>\n",
       "    <tr>\n",
       "      <th>1009</th>\n",
       "      <td>7754922710405</td>\n",
       "      <td>country_2</td>\n",
       "      <td>2019</td>\n",
       "      <td>49</td>\n",
       "      <td>1.0</td>\n",
       "      <td>29.99</td>\n",
       "      <td>29.99</td>\n",
       "      <td>0.000000</td>\n",
       "      <td>76.0</td>\n",
       "      <td>12</td>\n",
       "      <td>2019-12-02</td>\n",
       "    </tr>\n",
       "    <tr>\n",
       "      <th>868</th>\n",
       "      <td>7754922710404</td>\n",
       "      <td>country_1</td>\n",
       "      <td>2019</td>\n",
       "      <td>43</td>\n",
       "      <td>5.0</td>\n",
       "      <td>29.99</td>\n",
       "      <td>29.99</td>\n",
       "      <td>0.000000</td>\n",
       "      <td>0.0</td>\n",
       "      <td>10</td>\n",
       "      <td>2019-10-21</td>\n",
       "    </tr>\n",
       "    <tr>\n",
       "      <th>1077</th>\n",
       "      <td>7754922710406</td>\n",
       "      <td>country_1</td>\n",
       "      <td>2020</td>\n",
       "      <td>20</td>\n",
       "      <td>8.0</td>\n",
       "      <td>19.99</td>\n",
       "      <td>29.99</td>\n",
       "      <td>33.344448</td>\n",
       "      <td>8.0</td>\n",
       "      <td>5</td>\n",
       "      <td>2020-05-11</td>\n",
       "    </tr>\n",
       "  </tbody>\n",
       "</table>\n",
       "</div>"
      ],
      "text/plain": [
       "         article_id    country  year  week  article_count  sales_price  \\\n",
       "720   7754922710403  country_1  2019     1           -1.0        29.99   \n",
       "654   7754922710402  country_1  2020     2            1.0        19.99   \n",
       "156   7754922460403  country_1  2019    51            5.0        29.99   \n",
       "815   7754922710404  country_0  2019    35            0.0        49.95   \n",
       "1009  7754922710405  country_2  2019    49            1.0        29.99   \n",
       "868   7754922710404  country_1  2019    43            5.0        29.99   \n",
       "1077  7754922710406  country_1  2020    20            8.0        19.99   \n",
       "\n",
       "      original_price   discount  stock_begin_week  month transaction_date  \n",
       "720            29.99   0.000000              14.0     12       2019-12-30  \n",
       "654            29.99  33.344448               0.0      1       2020-01-06  \n",
       "156            29.99   0.000000              88.0     12       2019-12-16  \n",
       "815            49.95   0.000000               0.0      8       2019-08-26  \n",
       "1009           29.99   0.000000              76.0     12       2019-12-02  \n",
       "868            29.99   0.000000               0.0     10       2019-10-21  \n",
       "1077           29.99  33.344448               8.0      5       2020-05-11  "
      ]
     },
     "execution_count": 9,
     "metadata": {},
     "output_type": "execute_result"
    }
   ],
   "source": [
    "df_agg.sample(n=7)"
   ]
  },
  {
   "cell_type": "code",
   "execution_count": 10,
   "id": "f202ceee",
   "metadata": {},
   "outputs": [
    {
     "data": {
      "text/plain": [
       "['country_1', 'country_2', 'country_0']"
      ]
     },
     "execution_count": 10,
     "metadata": {},
     "output_type": "execute_result"
    }
   ],
   "source": [
    "list(df_agg.country.unique())"
   ]
  },
  {
   "cell_type": "code",
   "execution_count": 11,
   "id": "79c5d59d",
   "metadata": {},
   "outputs": [
    {
     "data": {
      "application/vnd.jupyter.widget-view+json": {
       "model_id": "bbfe1dd83adf406bac0243abf5ffda12",
       "version_major": 2,
       "version_minor": 0
      },
      "text/plain": [
       "interactive(children=(Dropdown(description='country', options=('country_1', 'country_2', 'country_0'), value='…"
      ]
     },
     "metadata": {},
     "output_type": "display_data"
    }
   ],
   "source": [
    "import itertools\n",
    "\n",
    "\n",
    "@interact\n",
    "def create_country_sales_plots(country=list(df_agg.country.unique())):\n",
    "    articles = df_agg.article_id.unique()\n",
    "    nrows = 4\n",
    "    ncols = 3\n",
    "    nplots = itertools.product(range(nrows), range(ncols))\n",
    "\n",
    "    fig, axs = plt.subplots(nrows, ncols, figsize=(10, 8))\n",
    "    plt.subplots_adjust(left=1, bottom=0.5, right=3, top=4)\n",
    "\n",
    "\n",
    "    for art, (r, c) in zip(articles, nplots):\n",
    "        df_agg[(df_agg.article_id == art) & \n",
    "           (df_agg.country == country)].sort_values('transaction_date').plot(x='transaction_date', \n",
    "                                                                         y='article_count', \n",
    "                                                                         ax=axs[r, c])\n",
    "        axs[r, c].set_title(f'Article: {art}, Country: {country}')\n"
   ]
  },
  {
   "cell_type": "markdown",
   "id": "04ab1d1a",
   "metadata": {},
   "source": [
    "## Creating Lagged Features"
   ]
  },
  {
   "cell_type": "code",
   "execution_count": 12,
   "id": "3432beae",
   "metadata": {},
   "outputs": [],
   "source": [
    "def create_lagged_cols(df: pd.DataFrame, cols_to_lag: List[str], num_lags: int, drop_na=True):\n",
    "    df_new = pd.DataFrame()\n",
    "    \n",
    "    articles = df.article_id.unique()\n",
    "    countries = df.country.unique()\n",
    "    \n",
    "    for article_id, country in itertools.product(articles, countries):\n",
    "        df_art_c = df[(df.article_id == article_id) & (df.country == country)].copy()\n",
    "        df_art_c = df_art_c.sort_values('transaction_date')\n",
    "        \n",
    "        for col in cols_to_lag:\n",
    "            for lag in range(1, num_lags + 1):\n",
    "                df_art_c[f'{col}_minus-{lag}'] = df_art_c[col].shift(lag)\n",
    "        \n",
    "        df_new = pd.concat([df_new, df_art_c])\n",
    "    \n",
    "    if drop_na:\n",
    "        df_new = df_new.dropna()\n",
    "    \n",
    "    return df_new"
   ]
  },
  {
   "cell_type": "code",
   "execution_count": 13,
   "id": "d1942454",
   "metadata": {},
   "outputs": [],
   "source": [
    "COLS_TO_LAG = ['article_count']\n",
    "NUM_LAGS = 4\n",
    "\n",
    "df_lag = create_lagged_cols(df_agg, COLS_TO_LAG, NUM_LAGS)"
   ]
  },
  {
   "cell_type": "code",
   "execution_count": 14,
   "id": "4952b495",
   "metadata": {},
   "outputs": [
    {
     "data": {
      "text/html": [
       "<div>\n",
       "<style scoped>\n",
       "    .dataframe tbody tr th:only-of-type {\n",
       "        vertical-align: middle;\n",
       "    }\n",
       "\n",
       "    .dataframe tbody tr th {\n",
       "        vertical-align: top;\n",
       "    }\n",
       "\n",
       "    .dataframe thead th {\n",
       "        text-align: right;\n",
       "    }\n",
       "</style>\n",
       "<table border=\"1\" class=\"dataframe\">\n",
       "  <thead>\n",
       "    <tr style=\"text-align: right;\">\n",
       "      <th></th>\n",
       "      <th>article_id</th>\n",
       "      <th>country</th>\n",
       "      <th>year</th>\n",
       "      <th>week</th>\n",
       "      <th>article_count</th>\n",
       "      <th>sales_price</th>\n",
       "      <th>original_price</th>\n",
       "      <th>discount</th>\n",
       "      <th>stock_begin_week</th>\n",
       "      <th>month</th>\n",
       "      <th>transaction_date</th>\n",
       "      <th>article_count_minus-1</th>\n",
       "      <th>article_count_minus-2</th>\n",
       "      <th>article_count_minus-3</th>\n",
       "      <th>article_count_minus-4</th>\n",
       "    </tr>\n",
       "  </thead>\n",
       "  <tbody>\n",
       "    <tr>\n",
       "      <th>5</th>\n",
       "      <td>7754922460402</td>\n",
       "      <td>country_1</td>\n",
       "      <td>2019</td>\n",
       "      <td>35</td>\n",
       "      <td>0.0</td>\n",
       "      <td>29.99</td>\n",
       "      <td>29.99</td>\n",
       "      <td>0.0</td>\n",
       "      <td>0.0</td>\n",
       "      <td>8</td>\n",
       "      <td>2019-08-26</td>\n",
       "      <td>0.0</td>\n",
       "      <td>0.0</td>\n",
       "      <td>0.0</td>\n",
       "      <td>0.0</td>\n",
       "    </tr>\n",
       "    <tr>\n",
       "      <th>6</th>\n",
       "      <td>7754922460402</td>\n",
       "      <td>country_1</td>\n",
       "      <td>2019</td>\n",
       "      <td>36</td>\n",
       "      <td>0.0</td>\n",
       "      <td>29.99</td>\n",
       "      <td>29.99</td>\n",
       "      <td>0.0</td>\n",
       "      <td>0.0</td>\n",
       "      <td>9</td>\n",
       "      <td>2019-09-02</td>\n",
       "      <td>0.0</td>\n",
       "      <td>0.0</td>\n",
       "      <td>0.0</td>\n",
       "      <td>0.0</td>\n",
       "    </tr>\n",
       "    <tr>\n",
       "      <th>7</th>\n",
       "      <td>7754922460402</td>\n",
       "      <td>country_1</td>\n",
       "      <td>2019</td>\n",
       "      <td>37</td>\n",
       "      <td>0.0</td>\n",
       "      <td>29.99</td>\n",
       "      <td>29.99</td>\n",
       "      <td>0.0</td>\n",
       "      <td>5.0</td>\n",
       "      <td>9</td>\n",
       "      <td>2019-09-09</td>\n",
       "      <td>0.0</td>\n",
       "      <td>0.0</td>\n",
       "      <td>0.0</td>\n",
       "      <td>0.0</td>\n",
       "    </tr>\n",
       "    <tr>\n",
       "      <th>8</th>\n",
       "      <td>7754922460402</td>\n",
       "      <td>country_1</td>\n",
       "      <td>2019</td>\n",
       "      <td>38</td>\n",
       "      <td>0.0</td>\n",
       "      <td>29.99</td>\n",
       "      <td>29.99</td>\n",
       "      <td>0.0</td>\n",
       "      <td>36.0</td>\n",
       "      <td>9</td>\n",
       "      <td>2019-09-16</td>\n",
       "      <td>0.0</td>\n",
       "      <td>0.0</td>\n",
       "      <td>0.0</td>\n",
       "      <td>0.0</td>\n",
       "    </tr>\n",
       "    <tr>\n",
       "      <th>9</th>\n",
       "      <td>7754922460402</td>\n",
       "      <td>country_1</td>\n",
       "      <td>2019</td>\n",
       "      <td>39</td>\n",
       "      <td>0.0</td>\n",
       "      <td>29.99</td>\n",
       "      <td>29.99</td>\n",
       "      <td>0.0</td>\n",
       "      <td>63.0</td>\n",
       "      <td>9</td>\n",
       "      <td>2019-09-23</td>\n",
       "      <td>0.0</td>\n",
       "      <td>0.0</td>\n",
       "      <td>0.0</td>\n",
       "      <td>0.0</td>\n",
       "    </tr>\n",
       "  </tbody>\n",
       "</table>\n",
       "</div>"
      ],
      "text/plain": [
       "      article_id    country  year  week  article_count  sales_price  \\\n",
       "5  7754922460402  country_1  2019    35            0.0        29.99   \n",
       "6  7754922460402  country_1  2019    36            0.0        29.99   \n",
       "7  7754922460402  country_1  2019    37            0.0        29.99   \n",
       "8  7754922460402  country_1  2019    38            0.0        29.99   \n",
       "9  7754922460402  country_1  2019    39            0.0        29.99   \n",
       "\n",
       "   original_price  discount  stock_begin_week  month transaction_date  \\\n",
       "5           29.99       0.0               0.0      8       2019-08-26   \n",
       "6           29.99       0.0               0.0      9       2019-09-02   \n",
       "7           29.99       0.0               5.0      9       2019-09-09   \n",
       "8           29.99       0.0              36.0      9       2019-09-16   \n",
       "9           29.99       0.0              63.0      9       2019-09-23   \n",
       "\n",
       "   article_count_minus-1  article_count_minus-2  article_count_minus-3  \\\n",
       "5                    0.0                    0.0                    0.0   \n",
       "6                    0.0                    0.0                    0.0   \n",
       "7                    0.0                    0.0                    0.0   \n",
       "8                    0.0                    0.0                    0.0   \n",
       "9                    0.0                    0.0                    0.0   \n",
       "\n",
       "   article_count_minus-4  \n",
       "5                    0.0  \n",
       "6                    0.0  \n",
       "7                    0.0  \n",
       "8                    0.0  \n",
       "9                    0.0  "
      ]
     },
     "execution_count": 14,
     "metadata": {},
     "output_type": "execute_result"
    }
   ],
   "source": [
    "df_lag.head()"
   ]
  },
  {
   "cell_type": "code",
   "execution_count": 15,
   "id": "1e262e77",
   "metadata": {},
   "outputs": [
    {
     "name": "stdout",
     "output_type": "stream",
     "text": [
      "<class 'pandas.core.frame.DataFrame'>\n",
      "Int64Index: 1107 entries, 5 to 1214\n",
      "Data columns (total 15 columns):\n",
      " #   Column                 Non-Null Count  Dtype         \n",
      "---  ------                 --------------  -----         \n",
      " 0   article_id             1107 non-null   int64         \n",
      " 1   country                1107 non-null   object        \n",
      " 2   year                   1107 non-null   int64         \n",
      " 3   week                   1107 non-null   int64         \n",
      " 4   article_count          1107 non-null   float64       \n",
      " 5   sales_price            1107 non-null   float64       \n",
      " 6   original_price         1107 non-null   float64       \n",
      " 7   discount               1107 non-null   float64       \n",
      " 8   stock_begin_week       1107 non-null   float64       \n",
      " 9   month                  1107 non-null   int64         \n",
      " 10  transaction_date       1107 non-null   datetime64[ns]\n",
      " 11  article_count_minus-1  1107 non-null   float64       \n",
      " 12  article_count_minus-2  1107 non-null   float64       \n",
      " 13  article_count_minus-3  1107 non-null   float64       \n",
      " 14  article_count_minus-4  1107 non-null   float64       \n",
      "dtypes: datetime64[ns](1), float64(9), int64(4), object(1)\n",
      "memory usage: 138.4+ KB\n"
     ]
    }
   ],
   "source": [
    "df_lag.info()"
   ]
  },
  {
   "cell_type": "code",
   "execution_count": 16,
   "id": "f801bab9",
   "metadata": {},
   "outputs": [
    {
     "data": {
      "application/vnd.jupyter.widget-view+json": {
       "model_id": "6799d5c4503a4e7bbc4de14c8202c40a",
       "version_major": 2,
       "version_minor": 0
      },
      "text/plain": [
       "interactive(children=(Dropdown(description='article_id', options=(7754922460402, 7754922460403, 7754922460404,…"
      ]
     },
     "metadata": {},
     "output_type": "display_data"
    }
   ],
   "source": [
    "@interact \n",
    "def show_lags(article_id=list(df_lag['article_id'].unique()), country =list(df_lag['country'].unique())):\n",
    "    df_art_country = df_lag[(df_lag['article_id'] == article_id) & \n",
    "                            (df_lag['country'] == country)]\n",
    "    if len(df_art_country) > 0:\n",
    "        return df_art_country[(df_art_country['transaction_date'] > '2019-11-01') & \n",
    "                              (df_art_country['transaction_date'] < '2020-03-01')].sort_values('transaction_date')\n",
    "    else:\n",
    "        return np.nan"
   ]
  },
  {
   "cell_type": "markdown",
   "id": "fe3ad5bd",
   "metadata": {},
   "source": [
    "## Categorical Features"
   ]
  },
  {
   "cell_type": "code",
   "execution_count": 17,
   "id": "d95b8153",
   "metadata": {},
   "outputs": [
    {
     "data": {
      "text/plain": [
       "Index(['article_id', 'country', 'year', 'week', 'article_count', 'sales_price',\n",
       "       'original_price', 'discount', 'stock_begin_week', 'month',\n",
       "       'transaction_date', 'article_count_minus-1', 'article_count_minus-2',\n",
       "       'article_count_minus-3', 'article_count_minus-4'],\n",
       "      dtype='object')"
      ]
     },
     "execution_count": 17,
     "metadata": {},
     "output_type": "execute_result"
    }
   ],
   "source": [
    "df_lag.columns"
   ]
  },
  {
   "cell_type": "code",
   "execution_count": 18,
   "id": "a57cb863",
   "metadata": {},
   "outputs": [],
   "source": [
    "countries = pd.get_dummies(df_lag.country, prefix='country')\n",
    "articles = pd.get_dummies(df_lag.article_id, prefix='article')\n",
    "\n",
    "df_final = df_lag.copy()\n",
    "\n",
    "df_final = pd.concat([df_final, articles], axis=1)\n",
    "df_final = pd.concat([df_final, countries], axis=1)\n",
    "\n",
    "df_final = df_final.drop(['country', 'article_id'], axis=1)"
   ]
  },
  {
   "cell_type": "code",
   "execution_count": 19,
   "id": "dfe7a6d0",
   "metadata": {},
   "outputs": [
    {
     "data": {
      "text/plain": [
       "Index(['year', 'week', 'article_count', 'sales_price', 'original_price',\n",
       "       'discount', 'stock_begin_week', 'month', 'transaction_date',\n",
       "       'article_count_minus-1', 'article_count_minus-2',\n",
       "       'article_count_minus-3', 'article_count_minus-4',\n",
       "       'article_7754922460402', 'article_7754922460403',\n",
       "       'article_7754922460404', 'article_7754922460405',\n",
       "       'article_7754922460406', 'article_7754922460407',\n",
       "       'article_7754922710402', 'article_7754922710403',\n",
       "       'article_7754922710404', 'article_7754922710405',\n",
       "       'article_7754922710406', 'article_7754922710407', 'country_country_0',\n",
       "       'country_country_1', 'country_country_2'],\n",
       "      dtype='object')"
      ]
     },
     "execution_count": 19,
     "metadata": {},
     "output_type": "execute_result"
    }
   ],
   "source": [
    "df_final.columns"
   ]
  },
  {
   "cell_type": "code",
   "execution_count": 20,
   "id": "41d719bf",
   "metadata": {},
   "outputs": [],
   "source": [
    "RESPONSE = ['article_count']\n",
    "PREDICTORS = ['year', 'week', 'month', \n",
    "              'sales_price', 'original_price', 'discount', \n",
    "              'stock_begin_week', \n",
    "              'article_count_minus-1', 'article_count_minus-2', 'article_count_minus-3', 'article_count_minus-4']\n",
    "\n",
    "PREDICTORS += list(countries.columns) + list(articles.columns)"
   ]
  },
  {
   "cell_type": "code",
   "execution_count": 21,
   "id": "0983c7e6",
   "metadata": {},
   "outputs": [
    {
     "data": {
      "text/plain": [
       "['year',\n",
       " 'week',\n",
       " 'month',\n",
       " 'sales_price',\n",
       " 'original_price',\n",
       " 'discount',\n",
       " 'stock_begin_week',\n",
       " 'article_count_minus-1',\n",
       " 'article_count_minus-2',\n",
       " 'article_count_minus-3',\n",
       " 'article_count_minus-4',\n",
       " 'country_country_0',\n",
       " 'country_country_1',\n",
       " 'country_country_2',\n",
       " 'article_7754922460402',\n",
       " 'article_7754922460403',\n",
       " 'article_7754922460404',\n",
       " 'article_7754922460405',\n",
       " 'article_7754922460406',\n",
       " 'article_7754922460407',\n",
       " 'article_7754922710402',\n",
       " 'article_7754922710403',\n",
       " 'article_7754922710404',\n",
       " 'article_7754922710405',\n",
       " 'article_7754922710406',\n",
       " 'article_7754922710407']"
      ]
     },
     "execution_count": 21,
     "metadata": {},
     "output_type": "execute_result"
    }
   ],
   "source": [
    "PREDICTORS"
   ]
  },
  {
   "cell_type": "code",
   "execution_count": 22,
   "id": "6d910688",
   "metadata": {},
   "outputs": [],
   "source": [
    "X = df_final[PREDICTORS]\n",
    "y = df_final[RESPONSE]"
   ]
  },
  {
   "cell_type": "code",
   "execution_count": 23,
   "id": "c019d5a1",
   "metadata": {},
   "outputs": [
    {
     "data": {
      "text/plain": [
       "XGBRegressor(base_score=0.5, booster='gbtree', colsample_bylevel=1,\n",
       "             colsample_bynode=1, colsample_bytree=1, gamma=0, gpu_id=-1,\n",
       "             importance_type='gain', interaction_constraints='',\n",
       "             learning_rate=0.300000012, max_delta_step=0, max_depth=6,\n",
       "             min_child_weight=1, missing=nan, monotone_constraints='()',\n",
       "             n_estimators=100, n_jobs=8, num_parallel_tree=1, random_state=0,\n",
       "             reg_alpha=0, reg_lambda=1, scale_pos_weight=1, subsample=1,\n",
       "             tree_method='exact', validate_parameters=1, verbosity=None)"
      ]
     },
     "execution_count": 23,
     "metadata": {},
     "output_type": "execute_result"
    }
   ],
   "source": [
    "from xgboost import XGBRegressor\n",
    "\n",
    "\n",
    "model = XGBRegressor()\n",
    "model.fit(X, y)"
   ]
  },
  {
   "cell_type": "code",
   "execution_count": 24,
   "id": "a6c7e093",
   "metadata": {},
   "outputs": [
    {
     "data": {
      "text/plain": [
       "array([0.00671089, 0.01645926, 0.26178217, 0.00893421, 0.26339158,\n",
       "       0.01861813, 0.01536356, 0.16223945, 0.02609903, 0.01956914,\n",
       "       0.01440827, 0.        , 0.01517905, 0.00050555, 0.00717021,\n",
       "       0.06820273, 0.00525107, 0.02019593, 0.00805945, 0.01449177,\n",
       "       0.00603432, 0.01629512, 0.00439165, 0.00362445, 0.00067372,\n",
       "       0.01634938], dtype=float32)"
      ]
     },
     "execution_count": 24,
     "metadata": {},
     "output_type": "execute_result"
    }
   ],
   "source": [
    "model.feature_importances_"
   ]
  },
  {
   "cell_type": "code",
   "execution_count": 25,
   "id": "7ce34ce8",
   "metadata": {},
   "outputs": [
    {
     "data": {
      "text/plain": [
       "{'year': 0.006710886,\n",
       " 'week': 0.016459264,\n",
       " 'month': 0.26178217,\n",
       " 'sales_price': 0.008934206,\n",
       " 'original_price': 0.26339158,\n",
       " 'discount': 0.018618125,\n",
       " 'stock_begin_week': 0.015363564,\n",
       " 'article_count_minus-1': 0.16223945,\n",
       " 'article_count_minus-2': 0.026099032,\n",
       " 'article_count_minus-3': 0.01956914,\n",
       " 'article_count_minus-4': 0.014408275,\n",
       " 'country_country_0': 0.0,\n",
       " 'country_country_1': 0.015179047,\n",
       " 'country_country_2': 0.000505546,\n",
       " 'article_7754922460402': 0.0071702083,\n",
       " 'article_7754922460403': 0.06820273,\n",
       " 'article_7754922460404': 0.0052510705,\n",
       " 'article_7754922460405': 0.020195935,\n",
       " 'article_7754922460406': 0.0080594495,\n",
       " 'article_7754922460407': 0.01449177,\n",
       " 'article_7754922710402': 0.0060343225,\n",
       " 'article_7754922710403': 0.016295124,\n",
       " 'article_7754922710404': 0.0043916493,\n",
       " 'article_7754922710405': 0.0036244502,\n",
       " 'article_7754922710406': 0.0006737168,\n",
       " 'article_7754922710407': 0.016349375}"
      ]
     },
     "execution_count": 25,
     "metadata": {},
     "output_type": "execute_result"
    }
   ],
   "source": [
    "feature_importance_dict = dict(zip(PREDICTORS, list(model.feature_importances_)))\n",
    "\n",
    "feature_importance_dict"
   ]
  },
  {
   "cell_type": "code",
   "execution_count": 26,
   "id": "0dfd512d",
   "metadata": {},
   "outputs": [
    {
     "data": {
      "image/png": "[encoded data removed]",
      "text/plain": [
       "<Figure size 720x576 with 1 Axes>"
      ]
     },
     "metadata": {
      "needs_background": "light"
     },
     "output_type": "display_data"
    }
   ],
   "source": [
    "fig, ax = plt.subplots(1, 1, figsize=(10, 8))\n",
    "\n",
    "plt.xticks(rotation=90)\n",
    "ax.bar(PREDICTORS, model.feature_importances_)\n",
    "plt.show()"
   ]
  },
  {
   "cell_type": "markdown",
   "id": "59719e33",
   "metadata": {},
   "source": [
    "## Restricting the Data to Within October to March"
   ]
  },
  {
   "cell_type": "code",
   "execution_count": 27,
   "id": "b13cc158",
   "metadata": {},
   "outputs": [
    {
     "data": {
      "image/png": "[encoded data removed]",
      "text/plain": [
       "<Figure size 720x576 with 1 Axes>"
      ]
     },
     "metadata": {
      "needs_background": "light"
     },
     "output_type": "display_data"
    }
   ],
   "source": [
    "START_DATE = '2019-10-01'\n",
    "END_DATE = '2020-03-31'\n",
    "\n",
    "X_prime = df_final[(df_final.transaction_date >= START_DATE) & \n",
    "                 (df_final.transaction_date <= END_DATE)][PREDICTORS]\n",
    "y_prime = df_final[(df_final.transaction_date >= START_DATE) & \n",
    "                 (df_final.transaction_date <= END_DATE)][RESPONSE]\n",
    "\n",
    "model_prime = XGBRegressor()\n",
    "model_prime.fit(X_prime, y_prime)\n",
    "\n",
    "fig, ax = plt.subplots(1, 1, figsize=(10, 8))\n",
    "\n",
    "plt.xticks(rotation=90)\n",
    "ax.bar(PREDICTORS, model_prime.feature_importances_)\n",
    "plt.show()"
   ]
  },
  {
   "cell_type": "markdown",
   "id": "4b871b0f",
   "metadata": {},
   "source": [
    "## Intermediate Conclusion\n",
    "\n",
    "Not surprisingly, the article or country ids themselves don't really matter. What matters are the `original_price`, `month` and `article_count_minus-1`. Surprisingly, `discount`s are not so important. In my experience, mid-range and premium articles have a high price elasticity. This suggests that these articles are at the low-end range and the brand is probably not that in-demand.     "
   ]
  },
  {
   "cell_type": "markdown",
   "id": "3d577994",
   "metadata": {},
   "source": [
    "## Save Lagged Data"
   ]
  },
  {
   "cell_type": "code",
   "execution_count": 28,
   "id": "e3f4b811",
   "metadata": {},
   "outputs": [],
   "source": [
    "df_final.to_csv('lagged_sales_data.csv', index=False)"
   ]
  },
  {
   "cell_type": "code",
   "execution_count": 29,
   "id": "d3390f4c",
   "metadata": {},
   "outputs": [
    {
     "name": "stdout",
     "output_type": "stream",
     "text": [
      "matplotlib: 3.4.1\n",
      "numpy     : 1.20.2\n",
      "ipywidgets: 7.6.3\n",
      "pandas    : 1.2.4\n",
      "seaborn   : 0.11.1\n",
      "\n"
     ]
    }
   ],
   "source": [
    "%watermark --iversions"
   ]
  }
 ],
 "metadata": {
  "kernelspec": {
   "display_name": "ai",
   "language": "python",
   "name": "ai"
  },
  "language_info": {
   "codemirror_mode": {
    "name": "ipython",
    "version": 3
   },
   "file_extension": ".py",
   "mimetype": "text/x-python",
   "name": "python",
   "nbconvert_exporter": "python",
   "pygments_lexer": "ipython3",
   "version": "3.9.2"
  }
 },
 "nbformat": 4,
 "nbformat_minor": 5
}
